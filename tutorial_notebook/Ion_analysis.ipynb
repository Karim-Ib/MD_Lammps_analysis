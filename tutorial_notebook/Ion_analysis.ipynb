{
 "cells": [
  {
   "cell_type": "code",
   "execution_count": 1,
   "id": "3018bc6b",
   "metadata": {},
   "outputs": [],
   "source": [
    "import sys \n",
    "import os"
   ]
  },
  {
   "cell_type": "code",
   "execution_count": 2,
   "id": "99b585e0",
   "metadata": {},
   "outputs": [],
   "source": [
    "src_path = os.path.abspath(\"../\")\n",
    "if src_path not in sys.path:\n",
    "    sys.path.append(src_path)"
   ]
  },
  {
   "cell_type": "code",
   "execution_count": 3,
   "id": "17dd9ec5",
   "metadata": {},
   "outputs": [],
   "source": [
    "from src.tools.md_class_functions import *\n",
    "from src.tools.md_class_utility import*\n",
    "from src.tools.md_class_graphs import *\n",
    "from src.water_md_class import *"
   ]
  },
  {
   "cell_type": "markdown",
   "id": "0a6b386c",
   "metadata": {},
   "source": [
    "### Set path to your lammps file and initialise trajectory object"
   ]
  },
  {
   "cell_type": "code",
   "execution_count": null,
   "id": "8c719b84",
   "metadata": {},
   "outputs": [],
   "source": [
    "# path towards an ion trajectory with recombination happening\n",
    "water_path = \"../testing/recombination_tester.lammpstrj\""
   ]
  },
  {
   "cell_type": "code",
   "execution_count": null,
   "id": "c31a0059",
   "metadata": {},
   "outputs": [],
   "source": [
    " #initialise trajectory object by passing path, format and scaling = 0 means not scaled -> will be scaled in __init__\n",
    "trj = Trajectory(water_path, format=\"lammpstrj\", scaled=0, verbosity=\"silent\")"
   ]
  },
  {
   "cell_type": "markdown",
   "id": "9a6d67e0",
   "metadata": {},
   "source": [
    "### Access class atributes of the Trajectory object "
   ]
  },
  {
   "cell_type": "code",
   "execution_count": null,
   "id": "06b3c8f6",
   "metadata": {},
   "outputs": [],
   "source": [
    "    # access class atributes which are calculated on initialisation, basic information about the trajectory \n",
    "    print(\"Trajectory first 3 rows\")\n",
    "    print(trj.trajectory[0, :3, :])\n",
    "    print(\"box dimensions\")\n",
    "    print(trj.box_dim[0])\n",
    "    print(\"box size\")\n",
    "    print(trj.box_size[0])\n",
    "    print(\"number of atoms\")\n",
    "    print(trj.n_atoms)\n",
    "    print(\"number of timesteps\")\n",
    "    print(trj.n_snapshots)\n",
    "    print(\"species split\")\n",
    "    print(\"s1 = Hydrogen\")\n",
    "    print(trj.s1[0][:3, :])\n",
    "    print(\"s2 = Oxygen\")\n",
    "    print(trj.s2[0][:3, :])\n",
    "    print(\"did recombine?\")\n",
    "    print(trj.did_recombine)\n",
    "    print(\"Recombination Time\")\n",
    "    print(trj.recombination_time)"
   ]
  },
  {
   "cell_type": "markdown",
   "id": "9b68b091",
   "metadata": {},
   "source": [
    "### Class Methods\n"
   ]
  },
  {
   "cell_type": "code",
   "execution_count": null,
   "id": "dbdfbe6b",
   "metadata": {},
   "outputs": [],
   "source": [
    "#sets the self.distance attribute\n",
    "trj.get_ion_distance()"
   ]
  },
  {
   "cell_type": "code",
   "execution_count": null,
   "id": "ef6b1d43",
   "metadata": {},
   "outputs": [],
   "source": [
    "plot_ion_distance_euc(trj, (11, 6))"
   ]
  },
  {
   "cell_type": "code",
   "execution_count": null,
   "id": "015c81bb",
   "metadata": {},
   "outputs": [],
   "source": [
    "#for further evaluations i just pick one timestep < recombination_time\n",
    "time_step = 773"
   ]
  },
  {
   "cell_type": "code",
   "execution_count": null,
   "id": "23cfda97",
   "metadata": {},
   "outputs": [],
   "source": [
    "bonding_list, unique_oxygens, ions = trj.get_hydrogen_bonds(timestep=time_step, cutoff=2.9, starting_oh=True)"
   ]
  },
  {
   "cell_type": "code",
   "execution_count": null,
   "id": "d7c3d3f4",
   "metadata": {},
   "outputs": [],
   "source": [
    "plot_hbonds_single(bonding_list, trj.s2[time_step], start=\"OH\", fig_size=(10, 8))"
   ]
  },
  {
   "cell_type": "code",
   "execution_count": null,
   "id": "778c4402",
   "metadata": {},
   "outputs": [],
   "source": [
    "bonds_H3O, oxygens_H3O, ions =  trj.get_hydrogen_bonds(timestep=time_step, cutoff=2.9, starting_oh=False)\n",
    "bonds_OH, oxygens_OH, _ =  trj.get_hydrogen_bonds(timestep=time_step, cutoff=2.9, starting_oh=True)"
   ]
  },
  {
   "cell_type": "code",
   "execution_count": null,
   "id": "1fd340bf",
   "metadata": {},
   "outputs": [],
   "source": [
    "plot_hbond_network(bonds_OH, bonds_H3O, trj.s2[time_step], ions, fig_size=(10, 8))"
   ]
  },
  {
   "cell_type": "code",
   "execution_count": null,
   "id": "2d857506",
   "metadata": {},
   "outputs": [],
   "source": [
    "# HB bonds for the entire trajectory\n",
    "hb_timeseries = get_HB_timeseries(trj)"
   ]
  },
  {
   "cell_type": "code",
   "execution_count": null,
   "id": "f434dd71",
   "metadata": {},
   "outputs": [],
   "source": [
    "# use %matplotlib widget or similar to make interactive\n",
    "plot_HB_network(hb_timeseries, trj.s2, plot_oxygen=True)"
   ]
  },
  {
   "cell_type": "code",
   "execution_count": null,
   "id": "5fb7700c",
   "metadata": {},
   "outputs": [],
   "source": [
    "plot_HB_ratio(hb_timeseries, n_atoms=trj.n_atoms)"
   ]
  },
  {
   "cell_type": "code",
   "execution_count": null,
   "id": "08d47eed",
   "metadata": {},
   "outputs": [],
   "source": [
    "wire_lengths, h_bonds = get_all_wires(trj)"
   ]
  },
  {
   "cell_type": "code",
   "execution_count": null,
   "id": "710ba863",
   "metadata": {},
   "outputs": [],
   "source": [
    "%matplotlib widget"
   ]
  },
  {
   "cell_type": "code",
   "execution_count": null,
   "id": "234e375c",
   "metadata": {},
   "outputs": [],
   "source": [
    "plot_HB_wire(h_bonds, trj, plot_hydrogens=True)"
   ]
  },
  {
   "cell_type": "code",
   "execution_count": null,
   "id": "5eceb89c",
   "metadata": {},
   "outputs": [],
   "source": [
    "plot_wire_length(wire_lengths)"
   ]
  },
  {
   "cell_type": "code",
   "execution_count": null,
   "id": "3d07bbbd",
   "metadata": {},
   "outputs": [],
   "source": [
    "ts_bonds, mol_list, ion_ts = get_transition_cations(trj)"
   ]
  },
  {
   "cell_type": "code",
   "execution_count": null,
   "id": "26adbd7c",
   "metadata": {},
   "outputs": [],
   "source": [
    "plot_transition_cations(mol_list, ion_ts, trj)"
   ]
  },
  {
   "cell_type": "code",
   "execution_count": null,
   "id": "bd6743a1",
   "metadata": {},
   "outputs": [],
   "source": [
    "OO_rdf = trj.get_rdf_rdist(stop=8.0)"
   ]
  },
  {
   "cell_type": "code",
   "execution_count": null,
   "id": "e0ccb656",
   "metadata": {},
   "outputs": [],
   "source": [
    "OO_rdf"
   ]
  },
  {
   "cell_type": "code",
   "execution_count": null,
   "id": "a719ea86",
   "metadata": {},
   "outputs": [],
   "source": [
    "HH_rdf = trj.get_rdf_rdist(gr_type=\"HH\")"
   ]
  },
  {
   "cell_type": "code",
   "execution_count": null,
   "id": "1c92d279",
   "metadata": {},
   "outputs": [],
   "source": [
    "plot_rdf(OO_rdf[0], OO_rdf[1])"
   ]
  },
  {
   "cell_type": "code",
   "execution_count": null,
   "id": "f758a02f",
   "metadata": {},
   "outputs": [],
   "source": [
    "plot_rdf(HH_rdf[0], HH_rdf[1], type=\"HH\")"
   ]
  },
  {
   "cell_type": "code",
   "execution_count": null,
   "id": "b99243f8",
   "metadata": {},
   "outputs": [],
   "source": [
    "MSD = trj.get_MSD()"
   ]
  },
  {
   "cell_type": "code",
   "execution_count": null,
   "id": "bbdbed18",
   "metadata": {},
   "outputs": [],
   "source": [
    "plot_MSD(MSD)"
   ]
  },
  {
   "cell_type": "code",
   "execution_count": null,
   "id": "79d1c00c",
   "metadata": {},
   "outputs": [],
   "source": [
    "diff = trj.get_translational_diffusion(MSD)\n",
    "diff"
   ]
  },
  {
   "cell_type": "markdown",
   "id": "8a9d136c",
   "metadata": {},
   "source": [
    "### Trajectory Manipulation\n",
    "\n",
    "\n"
   ]
  },
  {
   "cell_type": "code",
   "execution_count": null,
   "id": "6db4aca1",
   "metadata": {},
   "outputs": [],
   "source": [
    "#trjwater.lammpstrj is just a water sim trajectory without ions \n",
    "#note: (actually already has ions in it but they dont recombine still same concept)\n",
    "path_water = \"../testing/trjwater.lammpstrj\""
   ]
  },
  {
   "cell_type": "code",
   "execution_count": null,
   "id": "1104d4ca",
   "metadata": {},
   "outputs": [],
   "source": [
    "traj_2 = Trajectory(file=path_water, format=\"lammpstrj\", scaled=1, verbosity=\"loud\")"
   ]
  },
  {
   "cell_type": "code",
   "execution_count": null,
   "id": "dfc10f99",
   "metadata": {},
   "outputs": [],
   "source": [
    "# generate ion trajectories for ion MD runs\n",
    "traj_2.get_displace(snapshot=50, distance=0.4, eps=0.05, path=\"../tutorial_notebook/\", num_traj=2)"
   ]
  },
  {
   "cell_type": "code",
   "execution_count": null,
   "id": "ac94d09b",
   "metadata": {},
   "outputs": [],
   "source": [
    "#cut out trajectory at timestamp 50\n",
    "traj_2.cut_snapshot(snapshot=50, path=\"../tutorial_notebook/\")"
   ]
  },
  {
   "cell_type": "code",
   "execution_count": null,
   "id": "6e62f8c8",
   "metadata": {},
   "outputs": [],
   "source": [
    "# remove 20 atoms from timestap 50\n",
    "traj_2.remove_atoms(N=20, snap=50, format_out=\"lammps\")"
   ]
  },
  {
   "cell_type": "code",
   "execution_count": null,
   "id": "91297f67",
   "metadata": {},
   "outputs": [],
   "source": [
    "# group together the molecules and writes it into a ovito readable lammpstrj file\n",
    "traj_2.group_molecules(path=\"../tutorial_notebook/\")"
   ]
  },
  {
   "cell_type": "code",
   "execution_count": null,
   "id": "afa4bb62",
   "metadata": {},
   "outputs": [],
   "source": []
  },
  {
   "cell_type": "code",
   "execution_count": null,
   "id": "a66ece79",
   "metadata": {},
   "outputs": [],
   "source": [
    "data = np.loadtxt(\"C:\\\\Users\\\\Nutzer\\\\Documents\\\\GitHub\\\\MD_Lammps_analysis_class\\\\tutorial_notebook\\\\OH_ion_RDF_averaged.csv\", delimiter=\",\")\n",
    "plt.plot(data[1], data[0])"
   ]
  },
  {
   "cell_type": "code",
   "execution_count": null,
   "id": "69143b66",
   "metadata": {},
   "outputs": [],
   "source": [
    "data = np.loadtxt(\"C:\\\\Users\\\\Nutzer\\\\Documents\\\\GitHub\\\\MD_Lammps_analysis_class\\\\tutorial_notebook\\\\H3O_ion_RDF_averaged.csv\", delimiter=\",\")\n",
    "plt.plot(data[1], data[0])"
   ]
  },
  {
   "cell_type": "code",
   "execution_count": null,
   "id": "7633c21e",
   "metadata": {},
   "outputs": [],
   "source": [
    "h3o_ids_ts = np.empty((trj.recombination_time, ), dtype=int)\n",
    "oh_ids_ts = np.empty((trj.recombination_time, ), dtype=int)\n",
    "for ts in range(trj.recombination_time):\n",
    "    \n",
    "    OH_id = None\n",
    "    H3O_id = None\n",
    "\n",
    "    # note: find nearest O atom for each H atom\n",
    "    indexlist_group, _ = trj.get_neighbour_KDT(species_1=trj.s1[ts],\n",
    "                                                species_2=trj.s2[ts], mode=\"pbc\", snapshot=ts)\n",
    "\n",
    "    # note: find he  number of  occourence of O atoms for which it is the nearest to an H atom.\n",
    "    # -> for H2O each O atom will count twice, for each H3O+ each O atom will count 3 times and so on.\n",
    "    temp = [None] * trj.s2[ts].shape[0]\n",
    "    for O_atom in range(trj.s2[ts].shape[0]):\n",
    "        temp[O_atom] = np.append(np.argwhere(indexlist_group == O_atom), O_atom)\n",
    "\n",
    "    # check how often each O atom counted -> molecules formation  OH- = 1 time H3O+  3 Times  H2O 2 times.\n",
    "    for ind, _list in enumerate(temp):\n",
    "        #if len(_list) == 2:\n",
    "         #   OH_id = _list[-1]\n",
    "        if len(_list) == 4:\n",
    "            H3O_id = _list[-1]\n",
    "            \n",
    "    h3o_ids_ts[ts] = trj.s2[ts][H3O_id, 0]\n",
    "    #oh_ids_ts[ts] = trj.s2[ts][OH_id, 0]\n",
    "\n",
    "\n",
    "jumps = []\n",
    "diffusion = []\n",
    "for position_id in range(1, trj.recombination_time):\n",
    "    if h3o_ids_ts[position_id-1] != h3o_ids_ts[position_id]:\n",
    "        jumps.append(position_id-1)\n",
    "    else:\n",
    "        diffusion.append(position_id-1)\n",
    "        \n",
    "        \n",
    "\n",
    "    \n"
   ]
  },
  {
   "cell_type": "code",
   "execution_count": null,
   "id": "f538b957",
   "metadata": {},
   "outputs": [],
   "source": [
    "h3o_ids_ts"
   ]
  },
  {
   "cell_type": "code",
   "execution_count": null,
   "id": "e9b03c13",
   "metadata": {},
   "outputs": [],
   "source": [
    "jumps"
   ]
  },
  {
   "cell_type": "code",
   "execution_count": null,
   "id": "1bbe6a7c",
   "metadata": {},
   "outputs": [],
   "source": [
    "diffusion"
   ]
  },
  {
   "cell_type": "code",
   "execution_count": null,
   "id": "b3951146",
   "metadata": {},
   "outputs": [],
   "source": [
    "def get_diffusion_distance(jumps: [int], diffusion: [int], ion_ids: [int], trj: Trajectory):\n",
    "    \n",
    "    coordinates = trj.s2\n",
    "    temp = []\n",
    "    diffusion_distances = []\n",
    "    diffusion_coordinates = []\n",
    "\n",
    "    previous = diffusion[0]\n",
    "    intervalls = []\n",
    "    _temp = []\n",
    "\n",
    "\n",
    "    for diff_ts in range(1, len(diffusion)):\n",
    "        #print(previous)\n",
    "        if (diffusion[diff_ts] - 1 == previous): \n",
    "            _temp.append(previous)\n",
    "            previous = diffusion[diff_ts]\n",
    "        else:\n",
    "            _temp.append(previous)\n",
    "            if len(_temp) > 1:\n",
    "                intervalls.append(_temp)\n",
    "            _temp = []\n",
    "            previous = diffusion[diff_ts]\n",
    "    print(intervalls)\n",
    "    for diffusion_int in intervalls:\n",
    "        for diff in range(len(diffusion_int) -1):\n",
    "            temp.append(get_distance(coordinates[diffusion_int[diff]][coordinates[diffusion_int[diff]][:, 0]==ion_ids[diffusion_int[diff]], 2:][0],\n",
    "                                    coordinates[diffusion_int[diff+1]][coordinates[diffusion_int[diff+1]][:, 0]==ion_ids[diffusion_int[diff+1]], 2:][0],\n",
    "                                    mode=\"pbc\"))\n",
    "        diffusion_distances.append(sum(temp))\n",
    "        temp = []\n",
    "    return diffusion_distances\n",
    "        "
   ]
  },
  {
   "cell_type": "code",
   "execution_count": null,
   "id": "a866400c",
   "metadata": {},
   "outputs": [],
   "source": [
    "def get_jump_distances(jumps: [int], ion_ids: [int], trj: Trajectory):\n",
    "    \n",
    "    coordinates = trj.s2\n",
    "    jump_distances = []\n",
    "    \n",
    "    for jump_ts in range(len(jumps)):\n",
    "        jump_distances.append(get_distance(coordinates[jumps[jump_ts]][coordinates[jumps[jump_ts]][:, 0] == ion_ids[jumps[jump_ts]], 2:][0],\n",
    "                                          coordinates[jumps[jump_ts]-1][coordinates[jumps[jump_ts]-1][:, 0] == ion_ids[jumps[jump_ts]-1], 2:][0],\n",
    "                                          mode=\"pbc\"))\n",
    "        \n",
    "    return jump_distances"
   ]
  },
  {
   "cell_type": "code",
   "execution_count": null,
   "id": "7ffd8dcd",
   "metadata": {},
   "outputs": [],
   "source": [
    "diff_dist = get_diffusion_distance(jumps, diffusion, h3o_ids_ts, trj)\n",
    "jump_dist = get_jump_distances(jumps, h3o_ids_ts, trj)"
   ]
  },
  {
   "cell_type": "code",
   "execution_count": null,
   "id": "05830b95",
   "metadata": {
    "scrolled": true
   },
   "outputs": [],
   "source": [
    "len(jump_dist)"
   ]
  },
  {
   "cell_type": "code",
   "execution_count": null,
   "id": "ba568991",
   "metadata": {},
   "outputs": [],
   "source": [
    "len(diff_dist)"
   ]
  },
  {
   "cell_type": "code",
   "execution_count": null,
   "id": "57e921b2",
   "metadata": {},
   "outputs": [],
   "source": [
    "jump_dist"
   ]
  },
  {
   "cell_type": "code",
   "execution_count": null,
   "id": "638b902b",
   "metadata": {},
   "outputs": [],
   "source": [
    "import struct\n",
    "print(struct.calcsize(\"P\") * 8)"
   ]
  },
  {
   "cell_type": "code",
   "execution_count": null,
   "id": "09af425c",
   "metadata": {},
   "outputs": [],
   "source": [
    "path = \"Z://cluster_runs//n_608//NN_charged_test//results//charged_system//charged_run_0//trjwater.lammpstrj\""
   ]
  },
  {
   "cell_type": "code",
   "execution_count": null,
   "id": "a6adc1f2",
   "metadata": {},
   "outputs": [],
   "source": [
    "trj = Trajectory(file=path)"
   ]
  },
  {
   "cell_type": "code",
   "execution_count": null,
   "id": "461687aa",
   "metadata": {},
   "outputs": [],
   "source": [
    "trj.did_recombine"
   ]
  },
  {
   "cell_type": "code",
   "execution_count": null,
   "id": "2da66170",
   "metadata": {},
   "outputs": [],
   "source": []
  },
  {
   "cell_type": "code",
   "execution_count": null,
   "id": "d1c89ed0",
   "metadata": {},
   "outputs": [],
   "source": [
    "diffusion, jumps, h3_ids_ts = diffusion_timestep_tracing(trj)"
   ]
  },
  {
   "cell_type": "code",
   "execution_count": null,
   "id": "814df89c",
   "metadata": {},
   "outputs": [],
   "source": [
    "diff_dist = get_diffusion_distance(diffusion, h3_ids_ts, trj)"
   ]
  },
  {
   "cell_type": "code",
   "execution_count": null,
   "id": "4fcc0cb6",
   "metadata": {},
   "outputs": [],
   "source": [
    "jump_dist = get_jump_distances(jumps, h3_ids_ts, trj)"
   ]
  },
  {
   "cell_type": "code",
   "execution_count": null,
   "id": "98c4d36b",
   "metadata": {},
   "outputs": [],
   "source": [
    "len(jump_dist)"
   ]
  },
  {
   "cell_type": "code",
   "execution_count": null,
   "id": "d37c491a",
   "metadata": {},
   "outputs": [],
   "source": [
    "len(diff_dist)"
   ]
  },
  {
   "cell_type": "code",
   "execution_count": null,
   "id": "e7a436f8",
   "metadata": {},
   "outputs": [],
   "source": []
  },
  {
   "cell_type": "code",
   "execution_count": null,
   "id": "4c2ae768",
   "metadata": {},
   "outputs": [],
   "source": [
    "\n",
    "def autocorrelation_function(distances):\n",
    "    \"\"\"\n",
    "    Calculate the autocorrelation function of a list of distances.\n",
    "    \n",
    "    Parameters:\n",
    "    distances (list or np.ndarray): List or array of distance values (diffusion or jump distances).\n",
    "    \n",
    "    Returns:\n",
    "    np.ndarray: Autocorrelation function for the input distance list.\n",
    "    \"\"\"\n",
    "    distances = np.array(distances)\n",
    "    N = len(distances)\n",
    "    mean_distance = np.mean(distances)\n",
    "    \n",
    "    acf = np.zeros(N)\n",
    "    \n",
    "    for tau in range(N):\n",
    "        acf[tau] = np.mean((distances[:N - tau] - mean_distance) * (distances[tau:] - mean_distance))\n",
    "    \n",
    "    return acf / acf[0]  # Normalize by the value at tau=0 (to get a normalized ACF)\n"
   ]
  },
  {
   "cell_type": "code",
   "execution_count": null,
   "id": "772f3550",
   "metadata": {},
   "outputs": [],
   "source": [
    "# Compute autocorrelation functions\n",
    "acf_diffusion = autocorrelation_function(jump_dist)\n",
    "acf_jump = autocorrelation_function(diff_dist)\n",
    "\n",
    "# Plot the results\n",
    "plt.figure(figsize=(10, 6))\n",
    "plt.plot(acf_diffusion, label='Diffusion ACF', color='blue')\n",
    "plt.plot(acf_jump, label='Jump ACF', color='red')\n",
    "plt.xlabel('Lag (τ)')\n",
    "plt.ylabel('Autocorrelation')\n",
    "plt.legend()\n",
    "plt.title('Autocorrelation Function of Diffusion and Jump Distances')\n",
    "plt.grid(True)\n",
    "plt.show()"
   ]
  },
  {
   "cell_type": "code",
   "execution_count": null,
   "id": "3c545342",
   "metadata": {},
   "outputs": [],
   "source": [
    "np.savetxt(r\"Z:\\\\cluster_runs\\\\n_608\\\\NN_charged_test\\\\results\\\\charged_system\\\\long_run\\\\charged_run_0\\\\jump_dist.csv\", jump_dist)"
   ]
  },
  {
   "cell_type": "code",
   "execution_count": null,
   "id": "0a7f230f",
   "metadata": {},
   "outputs": [],
   "source": [
    "# Compute autocorrelation functions\n",
    "acf_diffusion = autocorrelation_function(jump_dist)\n",
    "acf_jump = autocorrelation_function(diff_dist)\n",
    "\n",
    "# Plot the results\n",
    "plt.figure(figsize=(10, 6))\n",
    "plt.plot(acf_diffusion, label='Diffusion ACF', color='blue')\n",
    "plt.plot(acf_jump, label='Jump ACF', color='red')\n",
    "plt.xlabel('Lag (τ)')\n",
    "plt.ylabel('Autocorrelation')\n",
    "plt.legend()\n",
    "plt.title('Autocorrelation Function of Diffusion and Jump Distances')\n",
    "plt.grid(True)\n",
    "plt.show()"
   ]
  },
  {
   "cell_type": "code",
   "execution_count": null,
   "id": "c8210c09",
   "metadata": {},
   "outputs": [],
   "source": [
    "def cross_autocorrelation(x, y):\n",
    "    x = np.asarray(x) - np.mean(x)\n",
    "    y = np.asarray(y) - np.mean(y)\n",
    "    corr = np.correlate(x, y, mode='full')\n",
    "    corr = corr[corr.size // 2:]\n",
    "    norm = np.sqrt(np.dot(x, x) * np.dot(y, y))  # normalization by magnitude\n",
    "    return corr / norm"
   ]
  },
  {
   "cell_type": "code",
   "execution_count": null,
   "id": "68ce17c4",
   "metadata": {},
   "outputs": [],
   "source": [
    "# Compute autocorrelation functions\n",
    "acf_diffusion = cross_autocorrelation(jump_dist, diff_dist)\n",
    "#acf_jump = autocorrelation_function(diff_dist)\n",
    "\n",
    "# Plot the results\n",
    "plt.figure(figsize=(10, 6))\n",
    "plt.plot(acf_diffusion, label='Diffusion ACF', color='blue')\n",
    "#plt.plot(acf_jump, label='Jump ACF', color='red')\n",
    "plt.xlabel('Lag (τ)')\n",
    "plt.ylabel('Autocorrelation')\n",
    "plt.legend()\n",
    "plt.title('Cross Autocorrelation Function of Diffusion and Jump Distances')\n",
    "plt.grid(True)\n",
    "plt.show()"
   ]
  },
  {
   "cell_type": "code",
   "execution_count": null,
   "id": "6ee77e26",
   "metadata": {},
   "outputs": [],
   "source": [
    "# Compute autocorrelation functions\n",
    "acf_diffusion = cross_autocorrelation(diff_dist, diff_dist)\n",
    "#acf_jump = autocorrelation_function(diff_dist)\n",
    "\n",
    "# Plot the results\n",
    "plt.figure(figsize=(10, 6))\n",
    "plt.plot(acf_diffusion, label='Diffusion ACF', color='blue')\n",
    "#plt.plot(acf_jump, label='Jump ACF', color='red')\n",
    "plt.xlabel('Lag (τ)')\n",
    "plt.ylabel('Autocorrelation')\n",
    "plt.legend()\n",
    "plt.title('Cross Autocorrelation Function of Diffusion Distances')\n",
    "plt.grid(True)\n",
    "plt.show()"
   ]
  },
  {
   "cell_type": "code",
   "execution_count": null,
   "id": "54ba2130",
   "metadata": {},
   "outputs": [],
   "source": [
    "# Compute autocorrelation functions\n",
    "acf_diffusion = cross_autocorrelation(jump_dist, jump_dist)\n",
    "#acf_jump = autocorrelation_function(diff_dist)\n",
    "\n",
    "# Plot the results\n",
    "plt.figure(figsize=(10, 6))\n",
    "plt.plot(acf_diffusion, label='Diffusion ACF', color='blue')\n",
    "#plt.plot(acf_jump, label='Jump ACF', color='red')\n",
    "plt.xlabel('Lag (τ)')\n",
    "plt.ylabel('Autocorrelation')\n",
    "plt.legend()\n",
    "plt.title('Cross Autocorrelation Function of Jump Distances')\n",
    "plt.grid(True)\n",
    "plt.show()"
   ]
  },
  {
   "cell_type": "code",
   "execution_count": null,
   "id": "4959afdb-d123-4c8b-987a-7384ce71db4e",
   "metadata": {},
   "outputs": [],
   "source": [
    "jump_data = np.genfromtxt(r\"C:\\Users\\karim\\Documents\\GitRepo\\MD_Lammps_analysis\\testing\\jump_dist.csv\")\n",
    "diff_data = np.genfromtxt(r\"C:\\Users\\karim\\Documents\\GitRepo\\MD_Lammps_analysis\\testing\\diff_dist.csv\")"
   ]
  },
  {
   "cell_type": "code",
   "execution_count": null,
   "id": "bf031afb-b089-414e-83dc-3827984e7c3b",
   "metadata": {},
   "outputs": [],
   "source": [
    "plt.hist(jump_data, bins=20)\n",
    "plt.show()"
   ]
  },
  {
   "cell_type": "code",
   "execution_count": null,
   "id": "4ea70209-184c-440c-b8d7-c042fa7f3f16",
   "metadata": {
    "scrolled": true
   },
   "outputs": [],
   "source": [
    "bins = np.linspace(0.0, 0.3, 100)\n",
    "plt.hist(diff_dist, bins=bins)\n",
    "plt.title(\"Histogram of Diffusiondistances\")\n",
    "plt.show()"
   ]
  },
  {
   "cell_type": "code",
   "execution_count": null,
   "id": "adfcd4eb",
   "metadata": {},
   "outputs": [],
   "source": [
    "bins = np.linspace(0.0, 0.0005, 100)\n",
    "plt.hist(jump_dist, bins=bins)\n",
    "plt.title(\"Histogram of Jumpdistances\")\n",
    "plt.show()"
   ]
  },
  {
   "cell_type": "code",
   "execution_count": null,
   "id": "4a8d596f",
   "metadata": {},
   "outputs": [],
   "source": [
    "bins = np.linspace(0.0, 0.1, 50)\n",
    "plt.hist(jump_dist, bins=bins)\n",
    "plt.title(\"Histogram of Jumpdistances - long jumps\")\n",
    "plt.show()"
   ]
  },
  {
   "cell_type": "code",
   "execution_count": 7,
   "id": "3823fa22",
   "metadata": {},
   "outputs": [],
   "source": [
    "import time"
   ]
  },
  {
   "cell_type": "code",
   "execution_count": 5,
   "id": "1fc44538-8385-488d-ae9d-ed65f5ddd6e4",
   "metadata": {},
   "outputs": [],
   "source": [
    "file=r\"Z:\\\\cluster_runs\\\\n_608\\\\NN_charged_test\\\\results\\\\charged_system\\\\long_run\\\\charged_run_0\\\\trjwater.lammpstrj\"\n",
    "file_test = r\"Z:\\\\cluster_runs\\\\n_608\\\\NN_charged_test\\\\results\\\\charged_system\\\\charged_run_0\\\\trjwater.lammpstrj\"\n",
    "save = r\"Z:\\\\cluster_runs\\\\n_608\\\\NN_charged_test\\\\results\\\\charged_system\\\\long_run\\\\charged_run_0\\\\trjwater.npz\""
   ]
  },
  {
   "cell_type": "code",
   "execution_count": null,
   "id": "41edf513",
   "metadata": {},
   "outputs": [
    {
     "name": "stdout",
     "output_type": "stream",
     "text": [
      "Processed 1000 snapshots so far...\n",
      "Processed 2000 snapshots so far...\n",
      "Processed 3000 snapshots so far...\n",
      "Processed 4000 snapshots so far...\n",
      "Processed 5000 snapshots so far...\n",
      "Processed 6000 snapshots so far...\n",
      "Processed 7000 snapshots so far...\n",
      "Processed 8000 snapshots so far...\n",
      "Processed 9000 snapshots so far...\n",
      "Processed 10000 snapshots so far...\n",
      "Processed 11000 snapshots so far...\n",
      "Processed 12000 snapshots so far...\n",
      "Processed 13000 snapshots so far...\n",
      "Processed 14000 snapshots so far...\n",
      "Processed 15000 snapshots so far...\n",
      "Processed 16000 snapshots so far...\n",
      "Processed 17000 snapshots so far...\n",
      "Processed 18000 snapshots so far...\n",
      "Processed 19000 snapshots so far...\n",
      "Processed 20000 snapshots so far...\n"
     ]
    }
   ],
   "source": [
    "start_time = time.time()\n",
    "trj = Trajectory(file=file_test, scaled=1, batch=True)\n",
    "end_time = time.time()"
   ]
  },
  {
   "cell_type": "code",
   "execution_count": 8,
   "id": "230b2307",
   "metadata": {},
   "outputs": [
    {
     "name": "stdout",
     "output_type": "stream",
     "text": [
      "Elapsed time: 174.3051 Minutes\n"
     ]
    }
   ],
   "source": [
    "elapsed_time = end_time - start_time\n",
    "print(f\"Elapsed time: {elapsed_time / 60 :.4f} Minutes\")"
   ]
  },
  {
   "cell_type": "code",
   "execution_count": null,
   "id": "076e8b38-5e8a-4504-b963-783c80c27557",
   "metadata": {},
   "outputs": [],
   "source": [
    "trj.trajectory[0, 0, :]"
   ]
  },
  {
   "cell_type": "code",
   "execution_count": null,
   "id": "d7587b2f-cc75-4b33-9f07-bc898117473c",
   "metadata": {},
   "outputs": [],
   "source": []
  },
  {
   "cell_type": "code",
   "execution_count": null,
   "id": "9b766025-5d50-4183-bc33-3aa979d659a3",
   "metadata": {},
   "outputs": [],
   "source": [
    "np.array_equal(trj_2.trajectory, trj.trajectory)"
   ]
  },
  {
   "cell_type": "code",
   "execution_count": 6,
   "id": "514be8fe-6bcd-435b-bbc0-bac77c81e017",
   "metadata": {},
   "outputs": [
    {
     "name": "stdout",
     "output_type": "stream",
     "text": [
      "Processed 1000 snapshots so far...\n",
      "Processed 2000 snapshots so far...\n",
      "Processed 3000 snapshots so far...\n",
      "Processed 4000 snapshots so far...\n",
      "Processed 5000 snapshots so far...\n",
      "Processed 6000 snapshots so far...\n",
      "Processed 7000 snapshots so far...\n",
      "Processed 8000 snapshots so far...\n",
      "Processed 9000 snapshots so far...\n",
      "Processed 10000 snapshots so far...\n",
      "Processed 11000 snapshots so far...\n",
      "Processed 12000 snapshots so far...\n",
      "Processed 13000 snapshots so far...\n",
      "Processed 14000 snapshots so far...\n",
      "Processed 15000 snapshots so far...\n",
      "Processed 16000 snapshots so far...\n",
      "Processed 17000 snapshots so far...\n",
      "Processed 18000 snapshots so far...\n",
      "Processed 19000 snapshots so far...\n",
      "Processed 20000 snapshots so far...\n",
      "Processed 21000 snapshots so far...\n",
      "Processed 22000 snapshots so far...\n",
      "Processed 23000 snapshots so far...\n",
      "Processed 24000 snapshots so far...\n",
      "Processed 25000 snapshots so far...\n",
      "Processed 26000 snapshots so far...\n",
      "Processed 27000 snapshots so far...\n",
      "Processed 28000 snapshots so far...\n",
      "Processed 29000 snapshots so far...\n",
      "Processed 30000 snapshots so far...\n",
      "Processed 31000 snapshots so far...\n",
      "Processed 32000 snapshots so far...\n",
      "Processed 33000 snapshots so far...\n",
      "Processed 34000 snapshots so far...\n",
      "Processed 35000 snapshots so far...\n",
      "Processed 36000 snapshots so far...\n",
      "Processed 37000 snapshots so far...\n",
      "Processed 38000 snapshots so far...\n",
      "Processed 39000 snapshots so far...\n",
      "Processed 40000 snapshots so far...\n",
      "Processed 41000 snapshots so far...\n",
      "Processed 42000 snapshots so far...\n",
      "Processed 43000 snapshots so far...\n",
      "Processed 44000 snapshots so far...\n",
      "Processed 45000 snapshots so far...\n",
      "Processed 46000 snapshots so far...\n",
      "Processed 47000 snapshots so far...\n",
      "Processed 48000 snapshots so far...\n",
      "Processed 49000 snapshots so far...\n",
      "Processed 50000 snapshots so far...\n",
      "Processed 51000 snapshots so far...\n",
      "Processed 52000 snapshots so far...\n",
      "Processed 53000 snapshots so far...\n",
      "Processed 54000 snapshots so far...\n",
      "Processed 55000 snapshots so far...\n",
      "Processed 56000 snapshots so far...\n",
      "Processed 57000 snapshots so far...\n",
      "Processed 58000 snapshots so far...\n",
      "Processed 59000 snapshots so far...\n",
      "Processed 60000 snapshots so far...\n",
      "Processed 61000 snapshots so far...\n",
      "Processed 62000 snapshots so far...\n",
      "Processed 63000 snapshots so far...\n",
      "Processed 64000 snapshots so far...\n",
      "Processed 65000 snapshots so far...\n",
      "Processed 66000 snapshots so far...\n",
      "Processed 67000 snapshots so far...\n",
      "Processed 68000 snapshots so far...\n",
      "Processed 69000 snapshots so far...\n",
      "Processed 70000 snapshots so far...\n",
      "Processed 71000 snapshots so far...\n",
      "Processed 72000 snapshots so far...\n",
      "Processed 73000 snapshots so far...\n",
      "Processed 74000 snapshots so far...\n",
      "Processed 75000 snapshots so far...\n",
      "Processed 76000 snapshots so far...\n",
      "Processed 77000 snapshots so far...\n",
      "Processed 78000 snapshots so far...\n",
      "Processed 79000 snapshots so far...\n",
      "Processed 80000 snapshots so far...\n",
      "Processed 81000 snapshots so far...\n",
      "Processed 82000 snapshots so far...\n",
      "Processed 83000 snapshots so far...\n"
     ]
    },
    {
     "name": "stderr",
     "output_type": "stream",
     "text": [
      "ERROR:root:Internal Python error in the inspect module.\n",
      "Below is the traceback from this internal error.\n",
      "\n"
     ]
    },
    {
     "name": "stdout",
     "output_type": "stream",
     "text": [
      "Traceback (most recent call last):\n",
      "  File \"C:\\Users\\Nutzer\\anaconda3\\envs\\master_thesis\\lib\\site-packages\\IPython\\core\\interactiveshell.py\", line 3457, in run_code\n",
      "    exec(code_obj, self.user_global_ns, self.user_ns)\n",
      "  File \"C:\\Users\\Nutzer\\AppData\\Local\\Temp\\ipykernel_23224\\2783189507.py\", line 1, in <module>\n",
      "    trj = Trajectory(file=file, format=\"lammpstrj\", batch=True, scaled=0)\n",
      "  File \"C:\\Users\\Nutzer\\Documents\\GitHub\\MD_Lammps_analysis_class\\src\\water_md_class.py\", line 45, in __init__\n",
      "    batch_size)\n",
      "  File \"C:\\Users\\Nutzer\\Documents\\GitHub\\MD_Lammps_analysis_class\\src\\water_md_class.py\", line 129, in lammpstrj_to_np_batchwise\n",
      "    atom_data = atom_data[:, [0, 1, 2, 3, 4]]  # id, species, x, y, z\n",
      "numpy.core._exceptions._ArrayMemoryError: Unable to allocate 71.3 KiB for an array with shape (5, 1825) and data type float64\n",
      "\n",
      "During handling of the above exception, another exception occurred:\n",
      "\n",
      "Traceback (most recent call last):\n",
      "  File \"C:\\Users\\Nutzer\\anaconda3\\envs\\master_thesis\\lib\\site-packages\\IPython\\core\\interactiveshell.py\", line 2077, in showtraceback\n",
      "    stb = value._render_traceback_()\n",
      "AttributeError: 'MemoryError' object has no attribute '_render_traceback_'\n",
      "\n",
      "During handling of the above exception, another exception occurred:\n",
      "\n",
      "Traceback (most recent call last):\n",
      "  File \"C:\\Users\\Nutzer\\anaconda3\\envs\\master_thesis\\lib\\site-packages\\IPython\\core\\ultratb.py\", line 1101, in get_records\n",
      "    return _fixed_getinnerframes(etb, number_of_lines_of_context, tb_offset)\n",
      "  File \"C:\\Users\\Nutzer\\anaconda3\\envs\\master_thesis\\lib\\site-packages\\IPython\\core\\ultratb.py\", line 248, in wrapped\n",
      "    return f(*args, **kwargs)\n",
      "  File \"C:\\Users\\Nutzer\\anaconda3\\envs\\master_thesis\\lib\\site-packages\\IPython\\core\\ultratb.py\", line 281, in _fixed_getinnerframes\n",
      "    records = fix_frame_records_filenames(inspect.getinnerframes(etb, context))\n",
      "  File \"C:\\Users\\Nutzer\\anaconda3\\envs\\master_thesis\\lib\\inspect.py\", line 1502, in getinnerframes\n",
      "    frameinfo = (tb.tb_frame,) + getframeinfo(tb, context)\n",
      "  File \"C:\\Users\\Nutzer\\anaconda3\\envs\\master_thesis\\lib\\inspect.py\", line 1460, in getframeinfo\n",
      "    filename = getsourcefile(frame) or getfile(frame)\n",
      "  File \"C:\\Users\\Nutzer\\anaconda3\\envs\\master_thesis\\lib\\inspect.py\", line 696, in getsourcefile\n",
      "    if getattr(getmodule(object, filename), '__loader__', None) is not None:\n",
      "  File \"C:\\Users\\Nutzer\\anaconda3\\envs\\master_thesis\\lib\\inspect.py\", line 732, in getmodule\n",
      "    for modname, module in sys.modules.copy().items():\n",
      "MemoryError\n"
     ]
    },
    {
     "ename": "TypeError",
     "evalue": "object of type 'NoneType' has no len()",
     "output_type": "error",
     "traceback": [
      "\u001b[1;31m---------------------------------------------------------------------------\u001b[0m",
      "\u001b[1;31mMemoryError\u001b[0m                               Traceback (most recent call last)",
      "    \u001b[1;31m[... skipping hidden 1 frame]\u001b[0m\n",
      "\u001b[1;32m~\\AppData\\Local\\Temp\\ipykernel_23224\\2783189507.py\u001b[0m in \u001b[0;36m<module>\u001b[1;34m\u001b[0m\n\u001b[1;32m----> 1\u001b[1;33m \u001b[0mtrj\u001b[0m \u001b[1;33m=\u001b[0m \u001b[0mTrajectory\u001b[0m\u001b[1;33m(\u001b[0m\u001b[0mfile\u001b[0m\u001b[1;33m=\u001b[0m\u001b[0mfile\u001b[0m\u001b[1;33m,\u001b[0m \u001b[0mformat\u001b[0m\u001b[1;33m=\u001b[0m\u001b[1;34m\"lammpstrj\"\u001b[0m\u001b[1;33m,\u001b[0m \u001b[0mbatch\u001b[0m\u001b[1;33m=\u001b[0m\u001b[1;32mTrue\u001b[0m\u001b[1;33m,\u001b[0m \u001b[0mscaled\u001b[0m\u001b[1;33m=\u001b[0m\u001b[1;36m0\u001b[0m\u001b[1;33m)\u001b[0m\u001b[1;33m\u001b[0m\u001b[1;33m\u001b[0m\u001b[0m\n\u001b[0m",
      "\u001b[1;32m~\\Documents\\GitHub\\MD_Lammps_analysis_class\\src\\water_md_class.py\u001b[0m in \u001b[0;36m__init__\u001b[1;34m(self, file, save, format, scaled, verbosity, batch, batch_size)\u001b[0m\n\u001b[0;32m     44\u001b[0m                                                                                          \u001b[0mscaled\u001b[0m\u001b[1;33m,\u001b[0m\u001b[1;33m\u001b[0m\u001b[1;33m\u001b[0m\u001b[0m\n\u001b[1;32m---> 45\u001b[1;33m                                                                                          batch_size)\n\u001b[0m\u001b[0;32m     46\u001b[0m         \u001b[1;32melif\u001b[0m \u001b[0mformat\u001b[0m \u001b[1;33m==\u001b[0m \u001b[1;34m'lammpstrj'\u001b[0m \u001b[1;32mand\u001b[0m \u001b[0mbatch\u001b[0m \u001b[1;33m==\u001b[0m \u001b[1;32mFalse\u001b[0m\u001b[1;33m:\u001b[0m\u001b[1;33m\u001b[0m\u001b[1;33m\u001b[0m\u001b[0m\n",
      "\u001b[1;32m~\\Documents\\GitHub\\MD_Lammps_analysis_class\\src\\water_md_class.py\u001b[0m in \u001b[0;36mlammpstrj_to_np_batchwise\u001b[1;34m(self, file_path, save_path, scal, batch_size)\u001b[0m\n\u001b[0;32m    128\u001b[0m                     \u001b[0matom_data\u001b[0m \u001b[1;33m=\u001b[0m \u001b[0mnp\u001b[0m\u001b[1;33m.\u001b[0m\u001b[0marray\u001b[0m\u001b[1;33m(\u001b[0m\u001b[1;33m[\u001b[0m\u001b[0mlist\u001b[0m\u001b[1;33m(\u001b[0m\u001b[0mmap\u001b[0m\u001b[1;33m(\u001b[0m\u001b[0mfloat\u001b[0m\u001b[1;33m,\u001b[0m \u001b[0ml\u001b[0m\u001b[1;33m.\u001b[0m\u001b[0mstrip\u001b[0m\u001b[1;33m(\u001b[0m\u001b[1;33m)\u001b[0m\u001b[1;33m.\u001b[0m\u001b[0msplit\u001b[0m\u001b[1;33m(\u001b[0m\u001b[1;33m)\u001b[0m\u001b[1;33m)\u001b[0m\u001b[1;33m)\u001b[0m \u001b[1;32mfor\u001b[0m \u001b[0ml\u001b[0m \u001b[1;32min\u001b[0m \u001b[0matom_lines\u001b[0m\u001b[1;33m]\u001b[0m\u001b[1;33m)\u001b[0m\u001b[1;33m\u001b[0m\u001b[1;33m\u001b[0m\u001b[0m\n\u001b[1;32m--> 129\u001b[1;33m                     \u001b[0matom_data\u001b[0m \u001b[1;33m=\u001b[0m \u001b[0matom_data\u001b[0m\u001b[1;33m[\u001b[0m\u001b[1;33m:\u001b[0m\u001b[1;33m,\u001b[0m \u001b[1;33m[\u001b[0m\u001b[1;36m0\u001b[0m\u001b[1;33m,\u001b[0m \u001b[1;36m1\u001b[0m\u001b[1;33m,\u001b[0m \u001b[1;36m2\u001b[0m\u001b[1;33m,\u001b[0m \u001b[1;36m3\u001b[0m\u001b[1;33m,\u001b[0m \u001b[1;36m4\u001b[0m\u001b[1;33m]\u001b[0m\u001b[1;33m]\u001b[0m  \u001b[1;31m# id, species, x, y, z\u001b[0m\u001b[1;33m\u001b[0m\u001b[1;33m\u001b[0m\u001b[0m\n\u001b[0m\u001b[0;32m    130\u001b[0m                     \u001b[0matom_list\u001b[0m\u001b[1;33m.\u001b[0m\u001b[0mappend\u001b[0m\u001b[1;33m(\u001b[0m\u001b[0matom_data\u001b[0m\u001b[1;33m)\u001b[0m\u001b[1;33m\u001b[0m\u001b[1;33m\u001b[0m\u001b[0m\n",
      "\u001b[1;31mMemoryError\u001b[0m: Unable to allocate 71.3 KiB for an array with shape (5, 1825) and data type float64",
      "\nDuring handling of the above exception, another exception occurred:\n",
      "\u001b[1;31mAttributeError\u001b[0m                            Traceback (most recent call last)",
      "\u001b[1;32m~\\anaconda3\\envs\\master_thesis\\lib\\site-packages\\IPython\\core\\interactiveshell.py\u001b[0m in \u001b[0;36mshowtraceback\u001b[1;34m(self, exc_tuple, filename, tb_offset, exception_only, running_compiled_code)\u001b[0m\n\u001b[0;32m   2076\u001b[0m                         \u001b[1;31m# in the engines. This should return a list of strings.\u001b[0m\u001b[1;33m\u001b[0m\u001b[1;33m\u001b[0m\u001b[1;33m\u001b[0m\u001b[0m\n\u001b[1;32m-> 2077\u001b[1;33m                         \u001b[0mstb\u001b[0m \u001b[1;33m=\u001b[0m \u001b[0mvalue\u001b[0m\u001b[1;33m.\u001b[0m\u001b[0m_render_traceback_\u001b[0m\u001b[1;33m(\u001b[0m\u001b[1;33m)\u001b[0m\u001b[1;33m\u001b[0m\u001b[1;33m\u001b[0m\u001b[0m\n\u001b[0m\u001b[0;32m   2078\u001b[0m                     \u001b[1;32mexcept\u001b[0m \u001b[0mException\u001b[0m\u001b[1;33m:\u001b[0m\u001b[1;33m\u001b[0m\u001b[1;33m\u001b[0m\u001b[0m\n",
      "\u001b[1;31mAttributeError\u001b[0m: 'MemoryError' object has no attribute '_render_traceback_'",
      "\nDuring handling of the above exception, another exception occurred:\n",
      "\u001b[1;31mTypeError\u001b[0m                                 Traceback (most recent call last)",
      "    \u001b[1;31m[... skipping hidden 1 frame]\u001b[0m\n",
      "\u001b[1;32m~\\anaconda3\\envs\\master_thesis\\lib\\site-packages\\IPython\\core\\interactiveshell.py\u001b[0m in \u001b[0;36mshowtraceback\u001b[1;34m(self, exc_tuple, filename, tb_offset, exception_only, running_compiled_code)\u001b[0m\n\u001b[0;32m   2078\u001b[0m                     \u001b[1;32mexcept\u001b[0m \u001b[0mException\u001b[0m\u001b[1;33m:\u001b[0m\u001b[1;33m\u001b[0m\u001b[1;33m\u001b[0m\u001b[0m\n\u001b[0;32m   2079\u001b[0m                         stb = self.InteractiveTB.structured_traceback(etype,\n\u001b[1;32m-> 2080\u001b[1;33m                                             value, tb, tb_offset=tb_offset)\n\u001b[0m\u001b[0;32m   2081\u001b[0m \u001b[1;33m\u001b[0m\u001b[0m\n\u001b[0;32m   2082\u001b[0m                     \u001b[0mself\u001b[0m\u001b[1;33m.\u001b[0m\u001b[0m_showtraceback\u001b[0m\u001b[1;33m(\u001b[0m\u001b[0metype\u001b[0m\u001b[1;33m,\u001b[0m \u001b[0mvalue\u001b[0m\u001b[1;33m,\u001b[0m \u001b[0mstb\u001b[0m\u001b[1;33m)\u001b[0m\u001b[1;33m\u001b[0m\u001b[1;33m\u001b[0m\u001b[0m\n",
      "\u001b[1;32m~\\anaconda3\\envs\\master_thesis\\lib\\site-packages\\IPython\\core\\ultratb.py\u001b[0m in \u001b[0;36mstructured_traceback\u001b[1;34m(self, etype, value, tb, tb_offset, number_of_lines_of_context)\u001b[0m\n\u001b[0;32m   1366\u001b[0m             \u001b[0mself\u001b[0m\u001b[1;33m.\u001b[0m\u001b[0mtb\u001b[0m \u001b[1;33m=\u001b[0m \u001b[0mtb\u001b[0m\u001b[1;33m\u001b[0m\u001b[1;33m\u001b[0m\u001b[0m\n\u001b[0;32m   1367\u001b[0m         return FormattedTB.structured_traceback(\n\u001b[1;32m-> 1368\u001b[1;33m             self, etype, value, tb, tb_offset, number_of_lines_of_context)\n\u001b[0m\u001b[0;32m   1369\u001b[0m \u001b[1;33m\u001b[0m\u001b[0m\n\u001b[0;32m   1370\u001b[0m \u001b[1;33m\u001b[0m\u001b[0m\n",
      "\u001b[1;32m~\\anaconda3\\envs\\master_thesis\\lib\\site-packages\\IPython\\core\\ultratb.py\u001b[0m in \u001b[0;36mstructured_traceback\u001b[1;34m(self, etype, value, tb, tb_offset, number_of_lines_of_context)\u001b[0m\n\u001b[0;32m   1266\u001b[0m             \u001b[1;31m# Verbose modes need a full traceback\u001b[0m\u001b[1;33m\u001b[0m\u001b[1;33m\u001b[0m\u001b[1;33m\u001b[0m\u001b[0m\n\u001b[0;32m   1267\u001b[0m             return VerboseTB.structured_traceback(\n\u001b[1;32m-> 1268\u001b[1;33m                 \u001b[0mself\u001b[0m\u001b[1;33m,\u001b[0m \u001b[0metype\u001b[0m\u001b[1;33m,\u001b[0m \u001b[0mvalue\u001b[0m\u001b[1;33m,\u001b[0m \u001b[0mtb\u001b[0m\u001b[1;33m,\u001b[0m \u001b[0mtb_offset\u001b[0m\u001b[1;33m,\u001b[0m \u001b[0mnumber_of_lines_of_context\u001b[0m\u001b[1;33m\u001b[0m\u001b[1;33m\u001b[0m\u001b[0m\n\u001b[0m\u001b[0;32m   1269\u001b[0m             )\n\u001b[0;32m   1270\u001b[0m         \u001b[1;32melif\u001b[0m \u001b[0mmode\u001b[0m \u001b[1;33m==\u001b[0m \u001b[1;34m'Minimal'\u001b[0m\u001b[1;33m:\u001b[0m\u001b[1;33m\u001b[0m\u001b[1;33m\u001b[0m\u001b[0m\n",
      "\u001b[1;32m~\\anaconda3\\envs\\master_thesis\\lib\\site-packages\\IPython\\core\\ultratb.py\u001b[0m in \u001b[0;36mstructured_traceback\u001b[1;34m(self, etype, evalue, etb, tb_offset, number_of_lines_of_context)\u001b[0m\n\u001b[0;32m   1123\u001b[0m \u001b[1;33m\u001b[0m\u001b[0m\n\u001b[0;32m   1124\u001b[0m         formatted_exception = self.format_exception_as_a_whole(etype, evalue, etb, number_of_lines_of_context,\n\u001b[1;32m-> 1125\u001b[1;33m                                                                tb_offset)\n\u001b[0m\u001b[0;32m   1126\u001b[0m \u001b[1;33m\u001b[0m\u001b[0m\n\u001b[0;32m   1127\u001b[0m         \u001b[0mcolors\u001b[0m \u001b[1;33m=\u001b[0m \u001b[0mself\u001b[0m\u001b[1;33m.\u001b[0m\u001b[0mColors\u001b[0m  \u001b[1;31m# just a shorthand + quicker name lookup\u001b[0m\u001b[1;33m\u001b[0m\u001b[1;33m\u001b[0m\u001b[0m\n",
      "\u001b[1;32m~\\anaconda3\\envs\\master_thesis\\lib\\site-packages\\IPython\\core\\ultratb.py\u001b[0m in \u001b[0;36mformat_exception_as_a_whole\u001b[1;34m(self, etype, evalue, etb, number_of_lines_of_context, tb_offset)\u001b[0m\n\u001b[0;32m   1080\u001b[0m \u001b[1;33m\u001b[0m\u001b[0m\n\u001b[0;32m   1081\u001b[0m \u001b[1;33m\u001b[0m\u001b[0m\n\u001b[1;32m-> 1082\u001b[1;33m         \u001b[0mlast_unique\u001b[0m\u001b[1;33m,\u001b[0m \u001b[0mrecursion_repeat\u001b[0m \u001b[1;33m=\u001b[0m \u001b[0mfind_recursion\u001b[0m\u001b[1;33m(\u001b[0m\u001b[0morig_etype\u001b[0m\u001b[1;33m,\u001b[0m \u001b[0mevalue\u001b[0m\u001b[1;33m,\u001b[0m \u001b[0mrecords\u001b[0m\u001b[1;33m)\u001b[0m\u001b[1;33m\u001b[0m\u001b[1;33m\u001b[0m\u001b[0m\n\u001b[0m\u001b[0;32m   1083\u001b[0m \u001b[1;33m\u001b[0m\u001b[0m\n\u001b[0;32m   1084\u001b[0m         \u001b[0mframes\u001b[0m \u001b[1;33m=\u001b[0m \u001b[0mself\u001b[0m\u001b[1;33m.\u001b[0m\u001b[0mformat_records\u001b[0m\u001b[1;33m(\u001b[0m\u001b[0mrecords\u001b[0m\u001b[1;33m,\u001b[0m \u001b[0mlast_unique\u001b[0m\u001b[1;33m,\u001b[0m \u001b[0mrecursion_repeat\u001b[0m\u001b[1;33m)\u001b[0m\u001b[1;33m\u001b[0m\u001b[1;33m\u001b[0m\u001b[0m\n",
      "\u001b[1;32m~\\anaconda3\\envs\\master_thesis\\lib\\site-packages\\IPython\\core\\ultratb.py\u001b[0m in \u001b[0;36mfind_recursion\u001b[1;34m(etype, value, records)\u001b[0m\n\u001b[0;32m    380\u001b[0m     \u001b[1;31m# first frame (from in to out) that looks different.\u001b[0m\u001b[1;33m\u001b[0m\u001b[1;33m\u001b[0m\u001b[1;33m\u001b[0m\u001b[0m\n\u001b[0;32m    381\u001b[0m     \u001b[1;32mif\u001b[0m \u001b[1;32mnot\u001b[0m \u001b[0mis_recursion_error\u001b[0m\u001b[1;33m(\u001b[0m\u001b[0metype\u001b[0m\u001b[1;33m,\u001b[0m \u001b[0mvalue\u001b[0m\u001b[1;33m,\u001b[0m \u001b[0mrecords\u001b[0m\u001b[1;33m)\u001b[0m\u001b[1;33m:\u001b[0m\u001b[1;33m\u001b[0m\u001b[1;33m\u001b[0m\u001b[0m\n\u001b[1;32m--> 382\u001b[1;33m         \u001b[1;32mreturn\u001b[0m \u001b[0mlen\u001b[0m\u001b[1;33m(\u001b[0m\u001b[0mrecords\u001b[0m\u001b[1;33m)\u001b[0m\u001b[1;33m,\u001b[0m \u001b[1;36m0\u001b[0m\u001b[1;33m\u001b[0m\u001b[1;33m\u001b[0m\u001b[0m\n\u001b[0m\u001b[0;32m    383\u001b[0m \u001b[1;33m\u001b[0m\u001b[0m\n\u001b[0;32m    384\u001b[0m     \u001b[1;31m# Select filename, lineno, func_name to track frames with\u001b[0m\u001b[1;33m\u001b[0m\u001b[1;33m\u001b[0m\u001b[1;33m\u001b[0m\u001b[0m\n",
      "\u001b[1;31mTypeError\u001b[0m: object of type 'NoneType' has no len()"
     ]
    }
   ],
   "source": [
    "trj = Trajectory(file=file, format=\"lammpstrj\", batch=True, scaled=0)"
   ]
  },
  {
   "cell_type": "code",
   "execution_count": null,
   "id": "d0cbd14d-4aa8-45df-b91e-00a77a637ecb",
   "metadata": {},
   "outputs": [],
   "source": []
  },
  {
   "cell_type": "code",
   "execution_count": null,
   "id": "9b11d478",
   "metadata": {},
   "outputs": [],
   "source": [
    "msd_diff = []\n",
    "msd_jump = []\n",
    "cross_term = []\n",
    "msd_total = []\n",
    "\n",
    "for t in range(len(r_diff)):\n",
    "    dr_diff = r_diff[t] - r_diff[0]\n",
    "    dr_jump = r_jump[t] - r_jump[0]\n",
    "    \n",
    "    diff_sq = np.dot(dr_diff, dr_diff)\n",
    "    jump_sq = np.dot(dr_jump, dr_jump)\n",
    "    cross = np.dot(dr_diff, dr_jump)\n",
    "    \n",
    "    msd_diff.append(diff_sq)\n",
    "    msd_jump.append(jump_sq)\n",
    "    cross_term.append(cross)\n",
    "    msd_total.append(diff_sq + jump_sq + 2 * cross)"
   ]
  },
  {
   "cell_type": "code",
   "execution_count": null,
   "id": "415d31b4",
   "metadata": {},
   "outputs": [],
   "source": [
    "diffusion"
   ]
  },
  {
   "cell_type": "code",
   "execution_count": null,
   "id": "f4655e08",
   "metadata": {},
   "outputs": [],
   "source": []
  },
  {
   "cell_type": "code",
   "execution_count": null,
   "id": "04ee6bf2",
   "metadata": {},
   "outputs": [],
   "source": []
  },
  {
   "cell_type": "code",
   "execution_count": null,
   "id": "f9f3abad",
   "metadata": {},
   "outputs": [],
   "source": []
  },
  {
   "cell_type": "code",
   "execution_count": null,
   "id": "23419808",
   "metadata": {},
   "outputs": [],
   "source": []
  },
  {
   "cell_type": "code",
   "execution_count": null,
   "id": "24deab4b",
   "metadata": {},
   "outputs": [],
   "source": []
  }
 ],
 "metadata": {
  "kernelspec": {
   "display_name": "Python 3 (ipykernel)",
   "language": "python",
   "name": "python3"
  },
  "language_info": {
   "codemirror_mode": {
    "name": "ipython",
    "version": 3
   },
   "file_extension": ".py",
   "mimetype": "text/x-python",
   "name": "python",
   "nbconvert_exporter": "python",
   "pygments_lexer": "ipython3",
   "version": "3.7.13"
  }
 },
 "nbformat": 4,
 "nbformat_minor": 5
}
