{
 "cells": [
  {
   "cell_type": "code",
   "execution_count": 1,
   "id": "3018bc6b",
   "metadata": {},
   "outputs": [],
   "source": [
    "import sys \n",
    "import os"
   ]
  },
  {
   "cell_type": "code",
   "execution_count": 3,
   "id": "99b585e0",
   "metadata": {},
   "outputs": [],
   "source": [
    "src_path = os.path.abspath(\"../\")\n",
    "if src_path not in sys.path:\n",
    "    sys.path.append(src_path)"
   ]
  },
  {
   "cell_type": "code",
   "execution_count": 5,
   "id": "17dd9ec5",
   "metadata": {},
   "outputs": [
    {
     "ename": "ModuleNotFoundError",
     "evalue": "No module named 'rdfpy'",
     "output_type": "error",
     "traceback": [
      "\u001b[1;31m---------------------------------------------------------------------------\u001b[0m",
      "\u001b[1;31mModuleNotFoundError\u001b[0m                       Traceback (most recent call last)",
      "Cell \u001b[1;32mIn[5], line 2\u001b[0m\n\u001b[0;32m      1\u001b[0m \u001b[38;5;28;01mfrom\u001b[39;00m \u001b[38;5;21;01msrc\u001b[39;00m\u001b[38;5;21;01m.\u001b[39;00m\u001b[38;5;21;01mtools\u001b[39;00m\u001b[38;5;21;01m.\u001b[39;00m\u001b[38;5;21;01mmd_class_functions\u001b[39;00m \u001b[38;5;28;01mimport\u001b[39;00m \u001b[38;5;241m*\u001b[39m\n\u001b[1;32m----> 2\u001b[0m \u001b[38;5;28;01mfrom\u001b[39;00m \u001b[38;5;21;01msrc\u001b[39;00m\u001b[38;5;21;01m.\u001b[39;00m\u001b[38;5;21;01mtools\u001b[39;00m\u001b[38;5;21;01m.\u001b[39;00m\u001b[38;5;21;01mmd_class_utility\u001b[39;00m \u001b[38;5;28;01mimport\u001b[39;00m\u001b[38;5;241m*\u001b[39m\n\u001b[0;32m      3\u001b[0m \u001b[38;5;28;01mfrom\u001b[39;00m \u001b[38;5;21;01msrc\u001b[39;00m\u001b[38;5;21;01m.\u001b[39;00m\u001b[38;5;21;01mtools\u001b[39;00m\u001b[38;5;21;01m.\u001b[39;00m\u001b[38;5;21;01mmd_class_graphs\u001b[39;00m \u001b[38;5;28;01mimport\u001b[39;00m \u001b[38;5;241m*\u001b[39m\n\u001b[0;32m      4\u001b[0m \u001b[38;5;28;01mfrom\u001b[39;00m \u001b[38;5;21;01msrc\u001b[39;00m\u001b[38;5;21;01m.\u001b[39;00m\u001b[38;5;21;01mwater_md_class\u001b[39;00m \u001b[38;5;28;01mimport\u001b[39;00m \u001b[38;5;241m*\u001b[39m\n",
      "File \u001b[1;32m~\\Documents\\GitRepo\\MD_Lammps_analysis\\src\\tools\\md_class_utility.py:8\u001b[0m\n\u001b[0;32m      6\u001b[0m \u001b[38;5;28;01mfrom\u001b[39;00m \u001b[38;5;21;01mscipy\u001b[39;00m\u001b[38;5;21;01m.\u001b[39;00m\u001b[38;5;21;01mspatial\u001b[39;00m \u001b[38;5;28;01mimport\u001b[39;00m cKDTree\n\u001b[0;32m      7\u001b[0m \u001b[38;5;28;01mfrom\u001b[39;00m \u001b[38;5;21;01mtyping\u001b[39;00m \u001b[38;5;28;01mimport\u001b[39;00m List\n\u001b[1;32m----> 8\u001b[0m \u001b[38;5;28;01mfrom\u001b[39;00m \u001b[38;5;21;01msrc\u001b[39;00m\u001b[38;5;21;01m.\u001b[39;00m\u001b[38;5;21;01mwater_md_class\u001b[39;00m \u001b[38;5;28;01mimport\u001b[39;00m Trajectory\n\u001b[0;32m      9\u001b[0m \u001b[38;5;28;01mfrom\u001b[39;00m \u001b[38;5;21;01msrc\u001b[39;00m\u001b[38;5;21;01m.\u001b[39;00m\u001b[38;5;21;01mtools\u001b[39;00m\u001b[38;5;21;01m.\u001b[39;00m\u001b[38;5;21;01mmd_class_functions\u001b[39;00m \u001b[38;5;28;01mimport\u001b[39;00m get_distance, scale_to_box\n\u001b[0;32m     11\u001b[0m \u001b[38;5;28;01mdef\u001b[39;00m \u001b[38;5;21mfill_OH_ion\u001b[39m(folder_input: \u001b[38;5;28mstr\u001b[39m\u001b[38;5;241m=\u001b[39m\u001b[38;5;28;01mNone\u001b[39;00m, folder_output: \u001b[38;5;28mstr\u001b[39m\u001b[38;5;241m=\u001b[39m\u001b[38;5;28;01mNone\u001b[39;00m, is_scaled\u001b[38;5;241m=\u001b[39m\u001b[38;5;241m0\u001b[39m, HOH_angle \u001b[38;5;241m=\u001b[39m \u001b[38;5;241m104.5\u001b[39m,\n\u001b[0;32m     12\u001b[0m                 OH_distance \u001b[38;5;241m=\u001b[39m \u001b[38;5;241m0.96\u001b[39m) \u001b[38;5;241m-\u001b[39m\u001b[38;5;241m>\u001b[39m \u001b[38;5;28;01mNone\u001b[39;00m:\n",
      "File \u001b[1;32m~\\Documents\\GitRepo\\MD_Lammps_analysis\\src\\water_md_class.py:7\u001b[0m\n\u001b[0;32m      4\u001b[0m \u001b[38;5;28;01mimport\u001b[39;00m \u001b[38;5;21;01mstring\u001b[39;00m\n\u001b[0;32m      6\u001b[0m \u001b[38;5;28;01mimport\u001b[39;00m \u001b[38;5;21;01mscipy\u001b[39;00m\u001b[38;5;21;01m.\u001b[39;00m\u001b[38;5;21;01mndimage\u001b[39;00m\n\u001b[1;32m----> 7\u001b[0m \u001b[38;5;28;01mfrom\u001b[39;00m \u001b[38;5;21;01mrdfpy\u001b[39;00m \u001b[38;5;28;01mimport\u001b[39;00m rdf\n\u001b[0;32m      8\u001b[0m \u001b[38;5;28;01mfrom\u001b[39;00m \u001b[38;5;21;01mscipy\u001b[39;00m\u001b[38;5;21;01m.\u001b[39;00m\u001b[38;5;21;01mspatial\u001b[39;00m \u001b[38;5;28;01mimport\u001b[39;00m cKDTree\n\u001b[0;32m      9\u001b[0m \u001b[38;5;28;01mfrom\u001b[39;00m \u001b[38;5;21;01mscipy\u001b[39;00m\u001b[38;5;21;01m.\u001b[39;00m\u001b[38;5;21;01mintegrate\u001b[39;00m \u001b[38;5;28;01mimport\u001b[39;00m trapezoid\n",
      "\u001b[1;31mModuleNotFoundError\u001b[0m: No module named 'rdfpy'"
     ]
    }
   ],
   "source": [
    "from src.tools.md_class_functions import *\n",
    "from src.tools.md_class_utility import*\n",
    "from src.tools.md_class_graphs import *\n",
    "from src.water_md_class import *"
   ]
  },
  {
   "cell_type": "markdown",
   "id": "0a6b386c",
   "metadata": {},
   "source": [
    "### Set path to your lammps file and initialise trajectory object"
   ]
  },
  {
   "cell_type": "code",
   "execution_count": null,
   "id": "8c719b84",
   "metadata": {},
   "outputs": [],
   "source": [
    "# path towards an ion trajectory with recombination happening\n",
    "water_path = \"../testing/recombination_tester.lammpstrj\""
   ]
  },
  {
   "cell_type": "code",
   "execution_count": null,
   "id": "c31a0059",
   "metadata": {},
   "outputs": [],
   "source": [
    " #initialise trajectory object by passing path, format and scaling = 0 means not scaled -> will be scaled in __init__\n",
    "trj = Trajectory(water_path, format=\"lammpstrj\", scaled=0, verbosity=\"silent\")"
   ]
  },
  {
   "cell_type": "markdown",
   "id": "9a6d67e0",
   "metadata": {},
   "source": [
    "### Access class atributes of the Trajectory object "
   ]
  },
  {
   "cell_type": "code",
   "execution_count": null,
   "id": "06b3c8f6",
   "metadata": {},
   "outputs": [],
   "source": [
    "    # access class atributes which are calculated on initialisation, basic information about the trajectory \n",
    "    print(\"Trajectory first 3 rows\")\n",
    "    print(trj.trajectory[0, :3, :])\n",
    "    print(\"box dimensions\")\n",
    "    print(trj.box_dim[0])\n",
    "    print(\"box size\")\n",
    "    print(trj.box_size[0])\n",
    "    print(\"number of atoms\")\n",
    "    print(trj.n_atoms)\n",
    "    print(\"number of timesteps\")\n",
    "    print(trj.n_snapshots)\n",
    "    print(\"species split\")\n",
    "    print(\"s1 = Hydrogen\")\n",
    "    print(trj.s1[0][:3, :])\n",
    "    print(\"s2 = Oxygen\")\n",
    "    print(trj.s2[0][:3, :])\n",
    "    print(\"did recombine?\")\n",
    "    print(trj.did_recombine)\n",
    "    print(\"Recombination Time\")\n",
    "    print(trj.recombination_time)"
   ]
  },
  {
   "cell_type": "markdown",
   "id": "9b68b091",
   "metadata": {},
   "source": [
    "### Class Methods\n"
   ]
  },
  {
   "cell_type": "code",
   "execution_count": null,
   "id": "dbdfbe6b",
   "metadata": {},
   "outputs": [],
   "source": [
    "#sets the self.distance attribute\n",
    "trj.get_ion_distance()"
   ]
  },
  {
   "cell_type": "code",
   "execution_count": null,
   "id": "ef6b1d43",
   "metadata": {},
   "outputs": [],
   "source": [
    "plot_ion_distance_euc(trj, (11, 6))"
   ]
  },
  {
   "cell_type": "code",
   "execution_count": null,
   "id": "015c81bb",
   "metadata": {},
   "outputs": [],
   "source": [
    "#for further evaluations i just pick one timestep < recombination_time\n",
    "time_step = 773"
   ]
  },
  {
   "cell_type": "code",
   "execution_count": null,
   "id": "23cfda97",
   "metadata": {},
   "outputs": [],
   "source": [
    "bonding_list, unique_oxygens, ions = trj.get_hydrogen_bonds(timestep=time_step, cutoff=2.9, starting_oh=True)"
   ]
  },
  {
   "cell_type": "code",
   "execution_count": null,
   "id": "d7c3d3f4",
   "metadata": {},
   "outputs": [],
   "source": [
    "plot_hbonds_single(bonding_list, trj.s2[time_step], start=\"OH\", fig_size=(10, 8))"
   ]
  },
  {
   "cell_type": "code",
   "execution_count": null,
   "id": "778c4402",
   "metadata": {},
   "outputs": [],
   "source": [
    "bonds_H3O, oxygens_H3O, ions =  trj.get_hydrogen_bonds(timestep=time_step, cutoff=2.9, starting_oh=False)\n",
    "bonds_OH, oxygens_OH, _ =  trj.get_hydrogen_bonds(timestep=time_step, cutoff=2.9, starting_oh=True)"
   ]
  },
  {
   "cell_type": "code",
   "execution_count": null,
   "id": "1fd340bf",
   "metadata": {},
   "outputs": [],
   "source": [
    "plot_hbond_network(bonds_OH, bonds_H3O, trj.s2[time_step], ions, fig_size=(10, 8))"
   ]
  },
  {
   "cell_type": "code",
   "execution_count": null,
   "id": "2d857506",
   "metadata": {},
   "outputs": [],
   "source": [
    "# HB bonds for the entire trajectory\n",
    "hb_timeseries = get_HB_timeseries(trj)"
   ]
  },
  {
   "cell_type": "code",
   "execution_count": null,
   "id": "f434dd71",
   "metadata": {},
   "outputs": [],
   "source": [
    "# use %matplotlib widget or similar to make interactive\n",
    "plot_HB_network(hb_timeseries, trj.s2, plot_oxygen=True)"
   ]
  },
  {
   "cell_type": "code",
   "execution_count": null,
   "id": "5fb7700c",
   "metadata": {},
   "outputs": [],
   "source": [
    "plot_HB_ratio(hb_timeseries, n_atoms=trj.n_atoms)"
   ]
  },
  {
   "cell_type": "code",
   "execution_count": null,
   "id": "08d47eed",
   "metadata": {},
   "outputs": [],
   "source": [
    "wire_lengths, h_bonds = get_all_wires(trj)"
   ]
  },
  {
   "cell_type": "code",
   "execution_count": null,
   "id": "710ba863",
   "metadata": {},
   "outputs": [],
   "source": [
    "%matplotlib widget"
   ]
  },
  {
   "cell_type": "code",
   "execution_count": null,
   "id": "234e375c",
   "metadata": {},
   "outputs": [],
   "source": [
    "plot_HB_wire(h_bonds, trj, plot_hydrogens=True)"
   ]
  },
  {
   "cell_type": "code",
   "execution_count": null,
   "id": "5eceb89c",
   "metadata": {},
   "outputs": [],
   "source": [
    "plot_wire_length(wire_lengths)"
   ]
  },
  {
   "cell_type": "code",
   "execution_count": null,
   "id": "3d07bbbd",
   "metadata": {},
   "outputs": [],
   "source": [
    "ts_bonds, mol_list, ion_ts = get_transition_cations(trj)"
   ]
  },
  {
   "cell_type": "code",
   "execution_count": null,
   "id": "26adbd7c",
   "metadata": {},
   "outputs": [],
   "source": [
    "plot_transition_cations(mol_list, ion_ts, trj)"
   ]
  },
  {
   "cell_type": "code",
   "execution_count": null,
   "id": "bd6743a1",
   "metadata": {},
   "outputs": [],
   "source": [
    "OO_rdf = trj.get_rdf_rdist(stop=8.0)"
   ]
  },
  {
   "cell_type": "code",
   "execution_count": null,
   "id": "e0ccb656",
   "metadata": {},
   "outputs": [],
   "source": [
    "OO_rdf"
   ]
  },
  {
   "cell_type": "code",
   "execution_count": null,
   "id": "a719ea86",
   "metadata": {},
   "outputs": [],
   "source": [
    "HH_rdf = trj.get_rdf_rdist(gr_type=\"HH\")"
   ]
  },
  {
   "cell_type": "code",
   "execution_count": null,
   "id": "1c92d279",
   "metadata": {},
   "outputs": [],
   "source": [
    "plot_rdf(OO_rdf[0], OO_rdf[1])"
   ]
  },
  {
   "cell_type": "code",
   "execution_count": null,
   "id": "f758a02f",
   "metadata": {},
   "outputs": [],
   "source": [
    "plot_rdf(HH_rdf[0], HH_rdf[1], type=\"HH\")"
   ]
  },
  {
   "cell_type": "code",
   "execution_count": null,
   "id": "b99243f8",
   "metadata": {},
   "outputs": [],
   "source": [
    "MSD = trj.get_MSD()"
   ]
  },
  {
   "cell_type": "code",
   "execution_count": null,
   "id": "bbdbed18",
   "metadata": {},
   "outputs": [],
   "source": [
    "plot_MSD(MSD)"
   ]
  },
  {
   "cell_type": "code",
   "execution_count": null,
   "id": "79d1c00c",
   "metadata": {},
   "outputs": [],
   "source": [
    "diff = trj.get_translational_diffusion(MSD)\n",
    "diff"
   ]
  },
  {
   "cell_type": "markdown",
   "id": "8a9d136c",
   "metadata": {},
   "source": [
    "### Trajectory Manipulation\n",
    "\n",
    "\n"
   ]
  },
  {
   "cell_type": "code",
   "execution_count": null,
   "id": "6db4aca1",
   "metadata": {},
   "outputs": [],
   "source": [
    "#trjwater.lammpstrj is just a water sim trajectory without ions \n",
    "#note: (actually already has ions in it but they dont recombine still same concept)\n",
    "path_water = \"../testing/trjwater.lammpstrj\""
   ]
  },
  {
   "cell_type": "code",
   "execution_count": null,
   "id": "1104d4ca",
   "metadata": {},
   "outputs": [],
   "source": [
    "traj_2 = Trajectory(file=path_water, format=\"lammpstrj\", scaled=1, verbosity=\"loud\")"
   ]
  },
  {
   "cell_type": "code",
   "execution_count": null,
   "id": "dfc10f99",
   "metadata": {},
   "outputs": [],
   "source": [
    "# generate ion trajectories for ion MD runs\n",
    "traj_2.get_displace(snapshot=50, distance=0.4, eps=0.05, path=\"../tutorial_notebook/\", num_traj=2)"
   ]
  },
  {
   "cell_type": "code",
   "execution_count": null,
   "id": "ac94d09b",
   "metadata": {},
   "outputs": [],
   "source": [
    "#cut out trajectory at timestamp 50\n",
    "traj_2.cut_snapshot(snapshot=50, path=\"../tutorial_notebook/\")"
   ]
  },
  {
   "cell_type": "code",
   "execution_count": null,
   "id": "6e62f8c8",
   "metadata": {},
   "outputs": [],
   "source": [
    "# remove 20 atoms from timestap 50\n",
    "traj_2.remove_atoms(N=20, snap=50, format_out=\"lammps\")"
   ]
  },
  {
   "cell_type": "code",
   "execution_count": null,
   "id": "91297f67",
   "metadata": {},
   "outputs": [],
   "source": [
    "# group together the molecules and writes it into a ovito readable lammpstrj file\n",
    "traj_2.group_molecules(path=\"../tutorial_notebook/\")"
   ]
  },
  {
   "cell_type": "code",
   "execution_count": null,
   "id": "afa4bb62",
   "metadata": {},
   "outputs": [],
   "source": []
  },
  {
   "cell_type": "code",
   "execution_count": null,
   "id": "a66ece79",
   "metadata": {},
   "outputs": [],
   "source": [
    "data = np.loadtxt(\"C:\\\\Users\\\\Nutzer\\\\Documents\\\\GitHub\\\\MD_Lammps_analysis_class\\\\tutorial_notebook\\\\OH_ion_RDF_averaged.csv\", delimiter=\",\")\n",
    "plt.plot(data[1], data[0])"
   ]
  },
  {
   "cell_type": "code",
   "execution_count": null,
   "id": "69143b66",
   "metadata": {},
   "outputs": [],
   "source": [
    "data = np.loadtxt(\"C:\\\\Users\\\\Nutzer\\\\Documents\\\\GitHub\\\\MD_Lammps_analysis_class\\\\tutorial_notebook\\\\H3O_ion_RDF_averaged.csv\", delimiter=\",\")\n",
    "plt.plot(data[1], data[0])"
   ]
  },
  {
   "cell_type": "code",
   "execution_count": null,
   "id": "7633c21e",
   "metadata": {},
   "outputs": [],
   "source": [
    "h3o_ids_ts = np.empty((trj.recombination_time, ), dtype=int)\n",
    "oh_ids_ts = np.empty((trj.recombination_time, ), dtype=int)\n",
    "for ts in range(trj.recombination_time):\n",
    "    \n",
    "    OH_id = None\n",
    "    H3O_id = None\n",
    "\n",
    "    # note: find nearest O atom for each H atom\n",
    "    indexlist_group, _ = trj.get_neighbour_KDT(species_1=trj.s1[ts],\n",
    "                                                species_2=trj.s2[ts], mode=\"pbc\", snapshot=ts)\n",
    "\n",
    "    # note: find he  number of  occourence of O atoms for which it is the nearest to an H atom.\n",
    "    # -> for H2O each O atom will count twice, for each H3O+ each O atom will count 3 times and so on.\n",
    "    temp = [None] * trj.s2[ts].shape[0]\n",
    "    for O_atom in range(trj.s2[ts].shape[0]):\n",
    "        temp[O_atom] = np.append(np.argwhere(indexlist_group == O_atom), O_atom)\n",
    "\n",
    "    # check how often each O atom counted -> molecules formation  OH- = 1 time H3O+  3 Times  H2O 2 times.\n",
    "    for ind, _list in enumerate(temp):\n",
    "        #if len(_list) == 2:\n",
    "         #   OH_id = _list[-1]\n",
    "        if len(_list) == 4:\n",
    "            H3O_id = _list[-1]\n",
    "            \n",
    "    h3o_ids_ts[ts] = trj.s2[ts][H3O_id, 0]\n",
    "    #oh_ids_ts[ts] = trj.s2[ts][OH_id, 0]\n",
    "\n",
    "\n",
    "jumps = []\n",
    "diffusion = []\n",
    "for position_id in range(1, trj.recombination_time):\n",
    "    if h3o_ids_ts[position_id-1] != h3o_ids_ts[position_id]:\n",
    "        jumps.append(position_id-1)\n",
    "    else:\n",
    "        diffusion.append(position_id-1)\n",
    "        \n",
    "        \n",
    "\n",
    "    \n"
   ]
  },
  {
   "cell_type": "code",
   "execution_count": null,
   "id": "f538b957",
   "metadata": {},
   "outputs": [],
   "source": [
    "h3o_ids_ts"
   ]
  },
  {
   "cell_type": "code",
   "execution_count": null,
   "id": "e9b03c13",
   "metadata": {},
   "outputs": [],
   "source": [
    "jumps"
   ]
  },
  {
   "cell_type": "code",
   "execution_count": null,
   "id": "1bbe6a7c",
   "metadata": {},
   "outputs": [],
   "source": [
    "diffusion"
   ]
  },
  {
   "cell_type": "code",
   "execution_count": null,
   "id": "b3951146",
   "metadata": {},
   "outputs": [],
   "source": [
    "def get_diffusion_distance(jumps: [int], diffusion: [int], ion_ids: [int], trj: Trajectory):\n",
    "    \n",
    "    coordinates = trj.s2\n",
    "    temp = []\n",
    "    diffusion_distances = []\n",
    "\n",
    "    previous = diffusion[0]\n",
    "    intervalls = []\n",
    "    _temp = []\n",
    "\n",
    "\n",
    "    for diff_ts in range(1, len(diffusion)):\n",
    "        #print(previous)\n",
    "        if (diffusion[diff_ts] - 1 == previous): \n",
    "            _temp.append(previous)\n",
    "            previous = diffusion[diff_ts]\n",
    "        else:\n",
    "            _temp.append(previous)\n",
    "            if len(_temp) > 1:\n",
    "                intervalls.append(_temp)\n",
    "            _temp = []\n",
    "            previous = diffusion[diff_ts]\n",
    "    print(intervalls)\n",
    "    for diffusion_int in intervalls:\n",
    "        for diff in range(len(diffusion_int) -1):\n",
    "            temp.append(get_distance(coordinates[diffusion_int[diff]][coordinates[diffusion_int[diff]][:, 0]==ion_ids[diffusion_int[diff]], 2:][0],\n",
    "                                    coordinates[diffusion_int[diff+1]][coordinates[diffusion_int[diff+1]][:, 0]==ion_ids[diffusion_int[diff+1]], 2:][0],\n",
    "                                    mode=\"pbc\"))\n",
    "        diffusion_distances.append(sum(temp))\n",
    "        temp = []\n",
    "    return diffusion_distances\n",
    "        "
   ]
  },
  {
   "cell_type": "code",
   "execution_count": null,
   "id": "a866400c",
   "metadata": {},
   "outputs": [],
   "source": [
    "def get_jump_distances(jumps: [int], ion_ids: [int], trj: Trajectory):\n",
    "    \n",
    "    coordinates = trj.s2\n",
    "    jump_distances = []\n",
    "    \n",
    "    for jump_ts in range(len(jumps)):\n",
    "        jump_distances.append(get_distance(coordinates[jumps[jump_ts]][coordinates[jumps[jump_ts]][:, 0] == ion_ids[jumps[jump_ts]], 2:][0],\n",
    "                                          coordinates[jumps[jump_ts]-1][coordinates[jumps[jump_ts]-1][:, 0] == ion_ids[jumps[jump_ts]-1], 2:][0],\n",
    "                                          mode=\"pbc\"))\n",
    "        \n",
    "    return jump_distances"
   ]
  },
  {
   "cell_type": "code",
   "execution_count": null,
   "id": "7ffd8dcd",
   "metadata": {},
   "outputs": [],
   "source": [
    "diff_dist = get_diffusion_distance(jumps, diffusion, h3o_ids_ts, trj)\n",
    "jump_dist = get_jump_distances(jumps, h3o_ids_ts, trj)"
   ]
  },
  {
   "cell_type": "code",
   "execution_count": null,
   "id": "05830b95",
   "metadata": {
    "scrolled": true
   },
   "outputs": [],
   "source": [
    "len(jump_dist)"
   ]
  },
  {
   "cell_type": "code",
   "execution_count": null,
   "id": "ba568991",
   "metadata": {},
   "outputs": [],
   "source": [
    "len(diff_dist)"
   ]
  },
  {
   "cell_type": "code",
   "execution_count": null,
   "id": "57e921b2",
   "metadata": {},
   "outputs": [],
   "source": []
  },
  {
   "cell_type": "code",
   "execution_count": null,
   "id": "638b902b",
   "metadata": {},
   "outputs": [],
   "source": [
    "import struct\n",
    "print(struct.calcsize(\"P\") * 8)"
   ]
  },
  {
   "cell_type": "code",
   "execution_count": 4,
   "id": "09af425c",
   "metadata": {},
   "outputs": [],
   "source": [
    "path = \"Z://cluster_runs//n_608//NN_charged_test//results//charged_system//charged_run_0//trjwater.lammpstrj\""
   ]
  },
  {
   "cell_type": "code",
   "execution_count": null,
   "id": "a6adc1f2",
   "metadata": {},
   "outputs": [],
   "source": [
    "trj = Trajectory(file=path)"
   ]
  },
  {
   "cell_type": "code",
   "execution_count": null,
   "id": "461687aa",
   "metadata": {},
   "outputs": [],
   "source": [
    "trj.did_recombine"
   ]
  },
  {
   "cell_type": "code",
   "execution_count": null,
   "id": "2da66170",
   "metadata": {},
   "outputs": [],
   "source": []
  },
  {
   "cell_type": "code",
   "execution_count": null,
   "id": "d1c89ed0",
   "metadata": {},
   "outputs": [],
   "source": [
    "diffusion, jumps, h3_ids_ts = diffusion_timestep_tracing(trj)"
   ]
  },
  {
   "cell_type": "code",
   "execution_count": null,
   "id": "814df89c",
   "metadata": {},
   "outputs": [],
   "source": [
    "diff_dist = get_diffusion_distance(diffusion, h3_ids_ts, trj)"
   ]
  },
  {
   "cell_type": "code",
   "execution_count": null,
   "id": "4fcc0cb6",
   "metadata": {},
   "outputs": [],
   "source": [
    "jump_dist = get_jump_distances(jumps, h3_ids_ts, trj)"
   ]
  },
  {
   "cell_type": "code",
   "execution_count": null,
   "id": "98c4d36b",
   "metadata": {},
   "outputs": [],
   "source": [
    "len(jump_dist)"
   ]
  },
  {
   "cell_type": "code",
   "execution_count": null,
   "id": "d37c491a",
   "metadata": {},
   "outputs": [],
   "source": [
    "len(diff_dist)"
   ]
  },
  {
   "cell_type": "code",
   "execution_count": null,
   "id": "e7a436f8",
   "metadata": {},
   "outputs": [],
   "source": []
  },
  {
   "cell_type": "code",
   "execution_count": null,
   "id": "4c2ae768",
   "metadata": {},
   "outputs": [],
   "source": [
    "\n",
    "def autocorrelation_function(distances):\n",
    "    \"\"\"\n",
    "    Calculate the autocorrelation function of a list of distances.\n",
    "    \n",
    "    Parameters:\n",
    "    distances (list or np.ndarray): List or array of distance values (diffusion or jump distances).\n",
    "    \n",
    "    Returns:\n",
    "    np.ndarray: Autocorrelation function for the input distance list.\n",
    "    \"\"\"\n",
    "    distances = np.array(distances)\n",
    "    N = len(distances)\n",
    "    mean_distance = np.mean(distances)\n",
    "    \n",
    "    acf = np.zeros(N)\n",
    "    \n",
    "    for tau in range(N):\n",
    "        acf[tau] = np.mean((distances[:N - tau] - mean_distance) * (distances[tau:] - mean_distance))\n",
    "    \n",
    "    return acf / acf[0]  # Normalize by the value at tau=0 (to get a normalized ACF)\n"
   ]
  },
  {
   "cell_type": "code",
   "execution_count": null,
   "id": "772f3550",
   "metadata": {},
   "outputs": [],
   "source": [
    "# Compute autocorrelation functions\n",
    "acf_diffusion = autocorrelation_function(jump_dist)\n",
    "acf_jump = autocorrelation_function(diff_dist)\n",
    "\n",
    "# Plot the results\n",
    "plt.figure(figsize=(10, 6))\n",
    "plt.plot(acf_diffusion, label='Diffusion ACF', color='blue')\n",
    "plt.plot(acf_jump, label='Jump ACF', color='red')\n",
    "plt.xlabel('Lag (τ)')\n",
    "plt.ylabel('Autocorrelation')\n",
    "plt.legend()\n",
    "plt.title('Autocorrelation Function of Diffusion and Jump Distances')\n",
    "plt.grid(True)\n",
    "plt.show()"
   ]
  },
  {
   "cell_type": "code",
   "execution_count": null,
   "id": "3c545342",
   "metadata": {},
   "outputs": [],
   "source": [
    "np.savetxt(r\"Z:\\\\cluster_runs\\\\n_608\\\\NN_charged_test\\\\results\\\\charged_system\\\\charged_run_0\\\\diff_dist.csv\", diff_dist)"
   ]
  },
  {
   "cell_type": "code",
   "execution_count": null,
   "id": "0a7f230f",
   "metadata": {},
   "outputs": [],
   "source": [
    "# Compute autocorrelation functions\n",
    "acf_diffusion = autocorrelation_function(jump_dist)\n",
    "acf_jump = autocorrelation_function(diff_dist)\n",
    "\n",
    "# Plot the results\n",
    "plt.figure(figsize=(10, 6))\n",
    "plt.plot(acf_diffusion, label='Diffusion ACF', color='blue')\n",
    "plt.plot(acf_jump, label='Jump ACF', color='red')\n",
    "plt.xlabel('Lag (τ)')\n",
    "plt.ylabel('Autocorrelation')\n",
    "plt.legend()\n",
    "plt.title('Autocorrelation Function of Diffusion and Jump Distances')\n",
    "plt.grid(True)\n",
    "plt.show()"
   ]
  },
  {
   "cell_type": "code",
   "execution_count": null,
   "id": "c8210c09",
   "metadata": {},
   "outputs": [],
   "source": [
    "def cross_autocorrelation(x, y):\n",
    "    x = np.asarray(x) - np.mean(x)\n",
    "    y = np.asarray(y) - np.mean(y)\n",
    "    corr = np.correlate(x, y, mode='full')\n",
    "    corr = corr[corr.size // 2:]\n",
    "    norm = np.sqrt(np.dot(x, x) * np.dot(y, y))  # normalization by magnitude\n",
    "    return corr / norm"
   ]
  },
  {
   "cell_type": "code",
   "execution_count": null,
   "id": "68ce17c4",
   "metadata": {},
   "outputs": [],
   "source": [
    "# Compute autocorrelation functions\n",
    "acf_diffusion = cross_autocorrelation(jump_dist, diff_dist)\n",
    "#acf_jump = autocorrelation_function(diff_dist)\n",
    "\n",
    "# Plot the results\n",
    "plt.figure(figsize=(10, 6))\n",
    "plt.plot(acf_diffusion, label='Diffusion ACF', color='blue')\n",
    "#plt.plot(acf_jump, label='Jump ACF', color='red')\n",
    "plt.xlabel('Lag (τ)')\n",
    "plt.ylabel('Autocorrelation')\n",
    "plt.legend()\n",
    "plt.title('Cross Autocorrelation Function of Diffusion and Jump Distances')\n",
    "plt.grid(True)\n",
    "plt.show()"
   ]
  },
  {
   "cell_type": "code",
   "execution_count": null,
   "id": "6ee77e26",
   "metadata": {},
   "outputs": [],
   "source": [
    "# Compute autocorrelation functions\n",
    "acf_diffusion = cross_autocorrelation(diff_dist, diff_dist)\n",
    "#acf_jump = autocorrelation_function(diff_dist)\n",
    "\n",
    "# Plot the results\n",
    "plt.figure(figsize=(10, 6))\n",
    "plt.plot(acf_diffusion, label='Diffusion ACF', color='blue')\n",
    "#plt.plot(acf_jump, label='Jump ACF', color='red')\n",
    "plt.xlabel('Lag (τ)')\n",
    "plt.ylabel('Autocorrelation')\n",
    "plt.legend()\n",
    "plt.title('Cross Autocorrelation Function of Diffusion Distances')\n",
    "plt.grid(True)\n",
    "plt.show()"
   ]
  },
  {
   "cell_type": "code",
   "execution_count": null,
   "id": "54ba2130",
   "metadata": {},
   "outputs": [],
   "source": [
    "# Compute autocorrelation functions\n",
    "acf_diffusion = cross_autocorrelation(jump_dist, jump_dist)\n",
    "#acf_jump = autocorrelation_function(diff_dist)\n",
    "\n",
    "# Plot the results\n",
    "plt.figure(figsize=(10, 6))\n",
    "plt.plot(acf_diffusion, label='Diffusion ACF', color='blue')\n",
    "#plt.plot(acf_jump, label='Jump ACF', color='red')\n",
    "plt.xlabel('Lag (τ)')\n",
    "plt.ylabel('Autocorrelation')\n",
    "plt.legend()\n",
    "plt.title('Cross Autocorrelation Function of Jump Distances')\n",
    "plt.grid(True)\n",
    "plt.show()"
   ]
  },
  {
   "cell_type": "code",
   "execution_count": 13,
   "id": "c014355c",
   "metadata": {},
   "outputs": [],
   "source": [
    "import numpy as np\n",
    "import regex\n",
    "import multiprocessing as mp\n",
    "\n",
    "def lammpstrj_worker(snapshot_chunk, file_path, n_atoms):\n",
    "    \"\"\"\n",
    "    Worker that parses a chunk of snapshots directly from the .lammpstrj file.\n",
    "    \"\"\"\n",
    "    atom_data = np.zeros((len(snapshot_chunk), n_atoms, 5))\n",
    "    with open(file_path, 'r') as f:\n",
    "        lines = f.readlines()\n",
    "        for local_idx, (snap_idx, start_line) in enumerate(snapshot_chunk):\n",
    "            for i in range(n_atoms):\n",
    "                line = lines[start_line + i].strip()\n",
    "                atom_data[local_idx, i, :] = [float(x) for x in line.split()]\n",
    "    return (snapshot_chunk[0][0], atom_data)\n",
    "\n",
    "\n",
    "def lammpstrj_to_np_parallel_from_disk(file_path, scal=1, n_workers=None, verbosity=\"loud\"):\n",
    "    \"\"\"\n",
    "    Efficient parallel parser for .lammpstrj using multiprocessing.\n",
    "\n",
    "    Args:\n",
    "        file_path (str): Full path to the .lammpstrj file.\n",
    "        scal (int): Whether to scale coordinates (1 = yes).\n",
    "        n_workers (int): Number of CPU cores to use.\n",
    "        verbosity (str): 'quiet' or 'loud'\n",
    "\n",
    "    Returns:\n",
    "        atom_list: (n_snapshots, n_atoms, 5) numpy array\n",
    "        box_dim: list of (3x2) box matrices\n",
    "        n_atoms: int\n",
    "    \"\"\"\n",
    "    snap_lines = []\n",
    "    box_dim = []\n",
    "    n_atoms_list = []\n",
    "    box_lines_left = 0\n",
    "\n",
    "    with open(file_path, 'r') as f:\n",
    "        for idx, line in enumerate(f):\n",
    "            if regex.match('ITEM: NUMBER OF ATOMS', line):\n",
    "                n_atoms_list.append(int(next(f)))\n",
    "            if regex.match('ITEM: BOX BOUNDS', line):\n",
    "                box_lines_left = 3\n",
    "            elif box_lines_left > 0:\n",
    "                box_dim.append(np.array([float(x) for x in line.strip().split()]))\n",
    "                box_lines_left -= 1\n",
    "            if regex.match('ITEM: ATOMS id', line):\n",
    "                snap_lines.append(idx + 2)\n",
    "\n",
    "    n_snapshots = len(snap_lines)\n",
    "    n_atoms = n_atoms_list[0]\n",
    "    box_dim = [np.stack(box_dim[i:i + 3]) for i in range(0, len(box_dim), 3)]\n",
    "\n",
    "    max_cores = mp.cpu_count()\n",
    "    if n_workers is None or n_workers > max_cores:\n",
    "        n_workers = max_cores - 1\n",
    "\n",
    "    def chunkify(lst, n):\n",
    "        return [lst[i::n] for i in range(n)]\n",
    "\n",
    "    snapshot_chunks = chunkify(list(enumerate(snap_lines)), n_workers)\n",
    "    pool_args = [(chunk, file_path, n_atoms) for chunk in snapshot_chunks]\n",
    "\n",
    "    with mp.Pool(n_workers) as pool:\n",
    "        results = pool.starmap(lammpstrj_worker, pool_args)\n",
    "\n",
    "    results.sort()  # sort by snapshot index\n",
    "    atom_list = np.concatenate([r[1] for r in results], axis=0)\n",
    "\n",
    "    if scal == 1:\n",
    "        temp = atom_list[:, :, 2:] >= 1\n",
    "        atom_list[:, :, 2:][temp] -= 1\n",
    "        temp = atom_list[:, :, 2:] < 0\n",
    "        atom_list[:, :, 2:][temp] += 1\n",
    "\n",
    "    if verbosity == \"loud\":\n",
    "        print(f\"Parsed {n_snapshots} snapshots with {n_workers} workers.\")\n",
    "\n",
    "    return atom_list, box_dim, n_atoms"
   ]
  },
  {
   "cell_type": "code",
   "execution_count": 12,
   "id": "3823fa22",
   "metadata": {},
   "outputs": [],
   "source": [
    "import time"
   ]
  },
  {
   "cell_type": "code",
   "execution_count": null,
   "id": "41edf513",
   "metadata": {},
   "outputs": [],
   "source": [
    "start_time = time.time()\n",
    "atom_list, box_dim, n_atoms = lammpstrj_to_np_parallel_from_disk(scal=1, n_workers=5, file_path=path)\n",
    "end_time = time.time()\n",
    "print(f\"Execution time: {end_time - start_time:.4f} seconds\")"
   ]
  },
  {
   "cell_type": "code",
   "execution_count": null,
   "id": "230b2307",
   "metadata": {},
   "outputs": [],
   "source": []
  }
 ],
 "metadata": {
  "kernelspec": {
   "display_name": "Python [conda env:base] *",
   "language": "python",
   "name": "conda-base-py"
  },
  "language_info": {
   "codemirror_mode": {
    "name": "ipython",
    "version": 3
   },
   "file_extension": ".py",
   "mimetype": "text/x-python",
   "name": "python",
   "nbconvert_exporter": "python",
   "pygments_lexer": "ipython3",
   "version": "3.12.7"
  }
 },
 "nbformat": 4,
 "nbformat_minor": 5
}
