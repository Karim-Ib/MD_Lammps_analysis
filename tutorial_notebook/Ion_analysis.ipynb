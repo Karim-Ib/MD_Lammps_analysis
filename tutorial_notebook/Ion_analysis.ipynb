{
 "cells": [
  {
   "cell_type": "code",
   "execution_count": 1,
   "id": "b8d43644",
   "metadata": {},
   "outputs": [],
   "source": [
    "import sys \n",
    "import os"
   ]
  },
  {
   "cell_type": "code",
   "execution_count": 2,
   "id": "f7b1b615",
   "metadata": {},
   "outputs": [],
   "source": [
    "src_path = os.path.abspath(\"../\")\n",
    "if src_path not in sys.path:\n",
    "    sys.path.append(src_path)"
   ]
  },
  {
   "cell_type": "code",
   "execution_count": 3,
   "id": "d6cc780d",
   "metadata": {},
   "outputs": [],
   "source": [
    "from src.tools.md_class_functions import *\n",
    "from src.tools.md_class_utility import*\n",
    "from src.tools.md_class_graphs import *\n",
    "from src.water_md_class import *"
   ]
  },
  {
   "cell_type": "markdown",
   "id": "cc46eea1",
   "metadata": {},
   "source": [
    "### Set path to your lammps file and initialise trajectory object"
   ]
  },
  {
   "cell_type": "code",
   "execution_count": null,
   "id": "7c369149",
   "metadata": {},
   "outputs": [],
   "source": [
    "## path towards an ion trajectory with recombination happening\n",
    "water_path = \"../testing/recombination_tester.lammpstrj\""
   ]
  },
  {
   "cell_type": "code",
   "execution_count": null,
   "id": "98589f1a",
   "metadata": {},
   "outputs": [],
   "source": [
    "#initialise trajectory object by passing path, format and scaling = 0 means not scaled -> will be scaled in __init__\n",
    "trj = Trajectory(water_path, format=\"lammpstrj\", scaled=0)"
   ]
  },
  {
   "cell_type": "markdown",
   "id": "8d5b9432",
   "metadata": {},
   "source": [
    "### Access class atributes of the Trajectory object "
   ]
  },
  {
   "cell_type": "code",
   "execution_count": null,
   "id": "509daaa1",
   "metadata": {},
   "outputs": [],
   "source": [
    "    #access class atributes which are calculated on initialisation, basic information about the trajectory \n",
    "    \n",
    "    print(\"Trajectory first 3 rows\")\n",
    "    print(trj.trajectory[0, :3, :])\n",
    "    print(\"box dimensions\")\n",
    "    print(trj.box_dim[0])\n",
    "    print(\"box size\")\n",
    "    print(trj.box_size[0])\n",
    "    print(\"number of atoms\")\n",
    "    print(trj.n_atoms)\n",
    "    print(\"number of timesteps\")\n",
    "    print(trj.n_snapshots)\n",
    "    print(\"species split\")\n",
    "    print(\"s1 = Hydrogen\")\n",
    "    print(trj.s1[0][:3, :])\n",
    "    print(\"s2 = Oxygen\")\n",
    "    print(trj.s2[0][:3, :])\n",
    "    print(\"did recombine?\")\n",
    "    print(trj.did_recombine)\n",
    "    print(\"Recombination Time\")\n",
    "    print(trj.recombination_time)"
   ]
  },
  {
   "cell_type": "markdown",
   "id": "62f0a65a",
   "metadata": {},
   "source": [
    "### Class Methods\n"
   ]
  },
  {
   "cell_type": "code",
   "execution_count": null,
   "id": "da185aeb",
   "metadata": {},
   "outputs": [],
   "source": [
    "trj.get_ion_distance()"
   ]
  },
  {
   "cell_type": "code",
   "execution_count": null,
   "id": "c0916fa3",
   "metadata": {},
   "outputs": [],
   "source": [
    "plot_ion_distance_euc(trj, (11, 6))"
   ]
  },
  {
   "cell_type": "code",
   "execution_count": null,
   "id": "e100f0ef",
   "metadata": {},
   "outputs": [],
   "source": [
    "time_step = 773"
   ]
  },
  {
   "cell_type": "code",
   "execution_count": null,
   "id": "e84a2f35",
   "metadata": {},
   "outputs": [],
   "source": [
    "bonding_list, unique_oxygens, ions = trj.get_hydrogen_bonds(timestep=time_step, cutoff=2.9, starting_oh=True)"
   ]
  },
  {
   "cell_type": "code",
   "execution_count": null,
   "id": "f8ea638e",
   "metadata": {},
   "outputs": [],
   "source": [
    "plot_hbonds_single(bonding_list, trj.s2[time_step], start=\"OH\", fig_size=(10, 8))"
   ]
  },
  {
   "cell_type": "code",
   "execution_count": null,
   "id": "7d283b85",
   "metadata": {},
   "outputs": [],
   "source": [
    "bonds_H3O, oxygens_H3O, ions =  trj.get_hydrogen_bonds(timestep=time_step, cutoff=2.9, starting_oh=False)\n",
    "bonds_OH, oxygens_OH, _ =  trj.get_hydrogen_bonds(timestep=time_step, cutoff=2.9, starting_oh=True)"
   ]
  },
  {
   "cell_type": "code",
   "execution_count": null,
   "id": "59704dbb",
   "metadata": {},
   "outputs": [],
   "source": [
    "plot_hbond_network(bonds_OH, bonds_H3O, trj.s2[time_step], ions, fig_size=(10, 8))"
   ]
  },
  {
   "cell_type": "code",
   "execution_count": null,
   "id": "2c589d73",
   "metadata": {},
   "outputs": [],
   "source": [
    "hb_timeseries = get_HB_timeseries(trj)"
   ]
  },
  {
   "cell_type": "code",
   "execution_count": null,
   "id": "f8617e6c",
   "metadata": {
    "scrolled": false
   },
   "outputs": [],
   "source": [
    "plot_HB_network(hb_timeseries, trj.s2, plot_oxygen=True)"
   ]
  },
  {
   "cell_type": "code",
   "execution_count": null,
   "id": "f66d2fb5",
   "metadata": {},
   "outputs": [],
   "source": [
    "plot_HB_ratio(hb_timeseries, n_atoms=trj.n_atoms)"
   ]
  },
  {
   "cell_type": "code",
   "execution_count": null,
   "id": "aff3ac2b",
   "metadata": {},
   "outputs": [],
   "source": [
    "wire_lengths, h_bonds = get_all_wires(trj)"
   ]
  },
  {
   "cell_type": "code",
   "execution_count": null,
   "id": "59330d77",
   "metadata": {},
   "outputs": [],
   "source": [
    "%matplotlib widget"
   ]
  },
  {
   "cell_type": "code",
   "execution_count": null,
   "id": "151e74f8",
   "metadata": {},
   "outputs": [],
   "source": [
    "plot_HB_wire(h_bonds, trj, plot_hydrogens=True)"
   ]
  },
  {
   "cell_type": "code",
   "execution_count": null,
   "id": "26f9384b",
   "metadata": {},
   "outputs": [],
   "source": [
    "plot_wire_length(wire_lengths)"
   ]
  },
  {
   "cell_type": "code",
   "execution_count": null,
   "id": "9ddc0659",
   "metadata": {},
   "outputs": [],
   "source": [
    "OO_rdf = trj.get_rdf_rdist()"
   ]
  },
  {
   "cell_type": "code",
   "execution_count": null,
   "id": "9a0cea80",
   "metadata": {},
   "outputs": [],
   "source": [
    "HH_rdf = trj.get_rdf_rdist(gr_type=\"HH\")"
   ]
  },
  {
   "cell_type": "code",
   "execution_count": null,
   "id": "8bd807db",
   "metadata": {},
   "outputs": [],
   "source": [
    "plot_rdf(OO_rdf[0], OO_rdf[1])"
   ]
  },
  {
   "cell_type": "code",
   "execution_count": null,
   "id": "a6bdb77d",
   "metadata": {},
   "outputs": [],
   "source": [
    "plot_rdf(HH_rdf[0], HH_rdf[1], type=\"HH\")"
   ]
  },
  {
   "cell_type": "code",
   "execution_count": null,
   "id": "4f1a0ded",
   "metadata": {},
   "outputs": [],
   "source": [
    "MSD = trj.get_MSD()"
   ]
  },
  {
   "cell_type": "code",
   "execution_count": null,
   "id": "d115f739",
   "metadata": {},
   "outputs": [],
   "source": [
    "plot_MSD(MSD)"
   ]
  },
  {
   "cell_type": "code",
   "execution_count": null,
   "id": "8f13be32",
   "metadata": {},
   "outputs": [],
   "source": [
    "diff = trj.get_translational_diffusion(MSD)"
   ]
  },
  {
   "cell_type": "markdown",
   "id": "211a8d9f",
   "metadata": {},
   "source": [
    "### Trajectory Manipulation\n",
    "\n",
    "\n"
   ]
  },
  {
   "cell_type": "code",
   "execution_count": 4,
   "id": "de6e3f6f",
   "metadata": {},
   "outputs": [],
   "source": [
    "#trjwater.lammpstrj is just a water sim trajectory without ions\n",
    "path_water = \"../testing/trjwater.lammpstrj\""
   ]
  },
  {
   "cell_type": "code",
   "execution_count": 5,
   "id": "a1e9d8aa",
   "metadata": {},
   "outputs": [
    {
     "name": "stdout",
     "output_type": "stream",
     "text": [
      "Processing Snapshot:1\n",
      "Processing Snapshot:2\n",
      "Processing Snapshot:3\n",
      "Processing Snapshot:4\n",
      "Processing Snapshot:5\n",
      "Processing Snapshot:6\n",
      "Processing Snapshot:7\n",
      "Processing Snapshot:8\n",
      "Processing Snapshot:9\n",
      "Processing Snapshot:10\n",
      "Processing Snapshot:11\n",
      "Processing Snapshot:12\n",
      "Processing Snapshot:13\n",
      "Processing Snapshot:14\n",
      "Processing Snapshot:15\n",
      "Processing Snapshot:16\n",
      "Processing Snapshot:17\n",
      "Processing Snapshot:18\n",
      "Processing Snapshot:19\n",
      "Processing Snapshot:20\n",
      "Processing Snapshot:21\n",
      "Processing Snapshot:22\n",
      "Processing Snapshot:23\n",
      "Processing Snapshot:24\n",
      "Processing Snapshot:25\n",
      "Processing Snapshot:26\n",
      "Processing Snapshot:27\n",
      "Processing Snapshot:28\n",
      "Processing Snapshot:29\n",
      "Processing Snapshot:30\n",
      "Processing Snapshot:31\n",
      "Processing Snapshot:32\n",
      "Processing Snapshot:33\n",
      "Processing Snapshot:34\n",
      "Processing Snapshot:35\n",
      "Processing Snapshot:36\n",
      "Processing Snapshot:37\n",
      "Processing Snapshot:38\n",
      "Processing Snapshot:39\n",
      "Processing Snapshot:40\n",
      "Processing Snapshot:41\n",
      "Processing Snapshot:42\n",
      "Processing Snapshot:43\n",
      "Processing Snapshot:44\n",
      "Processing Snapshot:45\n",
      "Processing Snapshot:46\n",
      "Processing Snapshot:47\n",
      "Processing Snapshot:48\n",
      "Processing Snapshot:49\n",
      "Processing Snapshot:50\n",
      "Processing Snapshot:51\n",
      "Processing Snapshot:52\n",
      "Processing Snapshot:53\n",
      "Processing Snapshot:54\n",
      "Processing Snapshot:55\n",
      "Processing Snapshot:56\n",
      "Processing Snapshot:57\n",
      "Processing Snapshot:58\n",
      "Processing Snapshot:59\n",
      "Processing Snapshot:60\n",
      "Processing Snapshot:61\n",
      "Processing Snapshot:62\n",
      "Processing Snapshot:63\n",
      "Processing Snapshot:64\n",
      "Processing Snapshot:65\n",
      "Processing Snapshot:66\n",
      "Processing Snapshot:67\n",
      "Processing Snapshot:68\n",
      "Processing Snapshot:69\n",
      "Processing Snapshot:70\n",
      "Processing Snapshot:71\n",
      "Processing Snapshot:72\n",
      "Processing Snapshot:73\n",
      "Processing Snapshot:74\n",
      "Processing Snapshot:75\n",
      "Processing Snapshot:76\n",
      "Processing Snapshot:77\n",
      "Processing Snapshot:78\n",
      "Processing Snapshot:79\n",
      "Processing Snapshot:80\n",
      "Processing Snapshot:81\n",
      "Processing Snapshot:82\n",
      "Processing Snapshot:83\n",
      "Processing Snapshot:84\n",
      "Processing Snapshot:85\n",
      "Processing Snapshot:86\n",
      "Processing Snapshot:87\n",
      "Processing Snapshot:88\n",
      "Processing Snapshot:89\n",
      "Processing Snapshot:90\n",
      "Processing Snapshot:91\n",
      "Processing Snapshot:92\n",
      "Processing Snapshot:93\n",
      "Processing Snapshot:94\n",
      "Processing Snapshot:95\n",
      "Processing Snapshot:96\n",
      "Processing Snapshot:97\n",
      "Processing Snapshot:98\n",
      "Processing Snapshot:99\n",
      "Attribute Error occurred(received list instead of numpy array) using 0 element of the list\n",
      "Attribute Error occurred(received list instead of numpy array) using 1 element of the list\n",
      "Attribute Error occurred(received list instead of numpy array) using 2 element of the list\n",
      "Attribute Error occurred(received list instead of numpy array) using 3 element of the list\n",
      "Attribute Error occurred(received list instead of numpy array) using 4 element of the list\n",
      "Attribute Error occurred(received list instead of numpy array) using 5 element of the list\n",
      "Attribute Error occurred(received list instead of numpy array) using 6 element of the list\n",
      "Attribute Error occurred(received list instead of numpy array) using 7 element of the list\n",
      "Attribute Error occurred(received list instead of numpy array) using 8 element of the list\n",
      "Attribute Error occurred(received list instead of numpy array) using 9 element of the list\n",
      "Attribute Error occurred(received list instead of numpy array) using 10 element of the list\n",
      "Attribute Error occurred(received list instead of numpy array) using 11 element of the list\n",
      "Attribute Error occurred(received list instead of numpy array) using 12 element of the list\n",
      "Attribute Error occurred(received list instead of numpy array) using 13 element of the list\n",
      "Attribute Error occurred(received list instead of numpy array) using 14 element of the list\n",
      "Attribute Error occurred(received list instead of numpy array) using 15 element of the list\n",
      "Attribute Error occurred(received list instead of numpy array) using 16 element of the list\n",
      "Attribute Error occurred(received list instead of numpy array) using 17 element of the list\n",
      "Attribute Error occurred(received list instead of numpy array) using 18 element of the list\n",
      "Attribute Error occurred(received list instead of numpy array) using 19 element of the list\n",
      "Attribute Error occurred(received list instead of numpy array) using 20 element of the list\n",
      "Attribute Error occurred(received list instead of numpy array) using 21 element of the list\n",
      "Attribute Error occurred(received list instead of numpy array) using 22 element of the list\n",
      "Attribute Error occurred(received list instead of numpy array) using 23 element of the list\n",
      "Attribute Error occurred(received list instead of numpy array) using 24 element of the list\n",
      "Attribute Error occurred(received list instead of numpy array) using 25 element of the list\n",
      "Attribute Error occurred(received list instead of numpy array) using 26 element of the list\n",
      "Attribute Error occurred(received list instead of numpy array) using 27 element of the list\n",
      "Attribute Error occurred(received list instead of numpy array) using 28 element of the list\n",
      "Attribute Error occurred(received list instead of numpy array) using 29 element of the list\n",
      "Attribute Error occurred(received list instead of numpy array) using 30 element of the list\n",
      "Attribute Error occurred(received list instead of numpy array) using 31 element of the list\n",
      "Attribute Error occurred(received list instead of numpy array) using 32 element of the list\n",
      "Attribute Error occurred(received list instead of numpy array) using 33 element of the list\n",
      "Attribute Error occurred(received list instead of numpy array) using 34 element of the list\n",
      "Attribute Error occurred(received list instead of numpy array) using 35 element of the list\n",
      "Attribute Error occurred(received list instead of numpy array) using 36 element of the list\n",
      "Attribute Error occurred(received list instead of numpy array) using 37 element of the list\n",
      "Attribute Error occurred(received list instead of numpy array) using 38 element of the list\n",
      "Attribute Error occurred(received list instead of numpy array) using 39 element of the list\n",
      "Attribute Error occurred(received list instead of numpy array) using 40 element of the list\n",
      "Attribute Error occurred(received list instead of numpy array) using 41 element of the list\n",
      "Attribute Error occurred(received list instead of numpy array) using 42 element of the list\n",
      "Attribute Error occurred(received list instead of numpy array) using 43 element of the list\n",
      "Attribute Error occurred(received list instead of numpy array) using 44 element of the list\n",
      "Attribute Error occurred(received list instead of numpy array) using 45 element of the list\n",
      "Attribute Error occurred(received list instead of numpy array) using 46 element of the list\n",
      "Attribute Error occurred(received list instead of numpy array) using 47 element of the list\n",
      "Attribute Error occurred(received list instead of numpy array) using 48 element of the list\n",
      "Attribute Error occurred(received list instead of numpy array) using 49 element of the list\n",
      "Attribute Error occurred(received list instead of numpy array) using 50 element of the list\n",
      "Attribute Error occurred(received list instead of numpy array) using 51 element of the list\n",
      "Attribute Error occurred(received list instead of numpy array) using 52 element of the list\n",
      "Attribute Error occurred(received list instead of numpy array) using 53 element of the list\n",
      "Attribute Error occurred(received list instead of numpy array) using 54 element of the list\n",
      "Attribute Error occurred(received list instead of numpy array) using 55 element of the list\n",
      "Attribute Error occurred(received list instead of numpy array) using 56 element of the list\n",
      "Attribute Error occurred(received list instead of numpy array) using 57 element of the list\n",
      "Attribute Error occurred(received list instead of numpy array) using 58 element of the list\n",
      "Attribute Error occurred(received list instead of numpy array) using 59 element of the list\n",
      "Attribute Error occurred(received list instead of numpy array) using 60 element of the list\n",
      "Attribute Error occurred(received list instead of numpy array) using 61 element of the list\n",
      "Attribute Error occurred(received list instead of numpy array) using 62 element of the list\n",
      "Attribute Error occurred(received list instead of numpy array) using 63 element of the list\n",
      "Attribute Error occurred(received list instead of numpy array) using 64 element of the list\n",
      "Attribute Error occurred(received list instead of numpy array) using 65 element of the list\n",
      "Attribute Error occurred(received list instead of numpy array) using 66 element of the list\n",
      "Attribute Error occurred(received list instead of numpy array) using 67 element of the list\n",
      "Attribute Error occurred(received list instead of numpy array) using 68 element of the list\n",
      "Attribute Error occurred(received list instead of numpy array) using 69 element of the list\n",
      "Attribute Error occurred(received list instead of numpy array) using 70 element of the list\n",
      "Attribute Error occurred(received list instead of numpy array) using 71 element of the list\n",
      "Attribute Error occurred(received list instead of numpy array) using 72 element of the list\n",
      "Attribute Error occurred(received list instead of numpy array) using 73 element of the list\n",
      "Attribute Error occurred(received list instead of numpy array) using 74 element of the list\n",
      "Attribute Error occurred(received list instead of numpy array) using 75 element of the list\n",
      "Attribute Error occurred(received list instead of numpy array) using 76 element of the list\n",
      "Attribute Error occurred(received list instead of numpy array) using 77 element of the list\n"
     ]
    },
    {
     "name": "stdout",
     "output_type": "stream",
     "text": [
      "Attribute Error occurred(received list instead of numpy array) using 78 element of the list\n",
      "Attribute Error occurred(received list instead of numpy array) using 79 element of the list\n",
      "Attribute Error occurred(received list instead of numpy array) using 80 element of the list\n",
      "Attribute Error occurred(received list instead of numpy array) using 81 element of the list\n",
      "Attribute Error occurred(received list instead of numpy array) using 82 element of the list\n",
      "Attribute Error occurred(received list instead of numpy array) using 83 element of the list\n",
      "Attribute Error occurred(received list instead of numpy array) using 84 element of the list\n",
      "Attribute Error occurred(received list instead of numpy array) using 85 element of the list\n",
      "Attribute Error occurred(received list instead of numpy array) using 86 element of the list\n",
      "Attribute Error occurred(received list instead of numpy array) using 87 element of the list\n",
      "Attribute Error occurred(received list instead of numpy array) using 88 element of the list\n",
      "Attribute Error occurred(received list instead of numpy array) using 89 element of the list\n",
      "Attribute Error occurred(received list instead of numpy array) using 90 element of the list\n",
      "Attribute Error occurred(received list instead of numpy array) using 91 element of the list\n",
      "Attribute Error occurred(received list instead of numpy array) using 92 element of the list\n",
      "Attribute Error occurred(received list instead of numpy array) using 93 element of the list\n",
      "Attribute Error occurred(received list instead of numpy array) using 94 element of the list\n",
      "Attribute Error occurred(received list instead of numpy array) using 95 element of the list\n",
      "Attribute Error occurred(received list instead of numpy array) using 96 element of the list\n",
      "Attribute Error occurred(received list instead of numpy array) using 97 element of the list\n",
      "Attribute Error occurred(received list instead of numpy array) using 98 element of the list\n",
      "Attribute Error occurred(received list instead of numpy array) using 99 element of the list\n",
      "Trajectory did not recombine\n"
     ]
    }
   ],
   "source": [
    "traj_2 = Trajectory(file=path_water, format=\"lammpstrj\", scaled=1, verbosity=\"loud\")"
   ]
  },
  {
   "cell_type": "code",
   "execution_count": 6,
   "id": "7712ec37",
   "metadata": {},
   "outputs": [
    {
     "name": "stdout",
     "output_type": "stream",
     "text": [
      "0\n",
      "distance too far, trying next O\n",
      "distance too far, trying next O\n",
      "distance too far, trying next O\n",
      "distance too far, trying next O\n",
      "distance too far, trying next O\n",
      "distance too far, trying next O\n",
      "distance too far, trying next O\n",
      "distance too far, trying next O\n",
      "distance too far, trying next O\n",
      "distance too far, trying next O\n",
      "distance too far, trying next O\n",
      "distance too far, trying next O\n",
      "distance too far, trying next O\n",
      "distance too far, trying next O\n",
      "distance too far, trying next O\n",
      "distance too far, trying next O\n",
      "distance too far, trying next O\n",
      "distance too far, trying next O\n",
      "distance too far, trying next O\n",
      "distance too far, trying next O\n",
      "distance too far, trying next O\n",
      "distance too far, trying next O\n",
      "distance too far, trying next O\n",
      "distance too far, trying next O\n",
      "distance too far, trying next O\n",
      "distance too far, trying next O\n",
      "distance too far, trying next O\n",
      "distance too far, trying next O\n",
      "distance too far, trying next O\n",
      "distance too far, trying next O\n",
      "distance too far, trying next O\n",
      "distance too far, trying next O\n",
      "distance too far, trying next O\n",
      "distance too far, trying next O\n",
      "distance too far, trying next O\n",
      "distance too far, trying next O\n",
      "distance too far, trying next O\n",
      "distance too far, trying next O\n",
      "distance too far, trying next O\n",
      "distance too far, trying next O\n",
      "distance too far, trying next O\n",
      "distance too far, trying next O\n",
      "distance too far, trying next O\n",
      "distance too far, trying next O\n",
      "distance too far, trying next O\n",
      "distance too far, trying next O\n",
      "distance too far, trying next O\n",
      "distance too far, trying next O\n",
      "distance too far, trying next O\n",
      "distance too far, trying next O\n",
      "distance too far, trying next O\n",
      "distance too far, trying next O\n",
      "distance too far, trying next O\n",
      "distance too far, trying next O\n",
      "distance too far, trying next O\n",
      "distance too far, trying next O\n",
      "distance too far, trying next O\n",
      "distance too far, trying next O\n",
      "distance too far, trying next O\n",
      "distance too far, trying next O\n",
      "distance too far, trying next O\n",
      "distance too far, trying next O\n",
      "distance too far, trying next O\n",
      "distance too far, trying next O\n",
      "distance too far, trying next O\n",
      "distance too far, trying next O\n",
      "distance too far, trying next O\n",
      "distance too far, trying next O\n",
      "distance too far, trying next O\n",
      "distance too far, trying next O\n",
      "distance too far, trying next O\n",
      "distance too far, trying next O\n",
      "distance too far, trying next O\n",
      "distance too far, trying next O\n",
      "distance too far, trying next O\n",
      "distance too far, trying next O\n",
      "distance too far, trying next O\n",
      "distance too far, trying next O\n",
      "distance too far, trying next O\n",
      "distance too far, trying next O\n",
      "distance too far, trying next O\n",
      "distance too far, trying next O\n",
      "distance too far, trying next O\n",
      "distance too far, trying next O\n",
      "displace\n",
      "trajectory saved as water_0.data\n",
      "1\n",
      "distance too far, trying next O\n",
      "distance too far, trying next O\n",
      "distance too far, trying next O\n",
      "distance too far, trying next O\n",
      "distance too far, trying next O\n",
      "distance too far, trying next O\n",
      "distance too far, trying next O\n",
      "distance too far, trying next O\n",
      "distance too far, trying next O\n",
      "distance too far, trying next O\n",
      "distance too far, trying next O\n",
      "distance too far, trying next O\n",
      "distance too far, trying next O\n",
      "distance too far, trying next O\n",
      "distance too far, trying next O\n",
      "distance too far, trying next O\n",
      "distance too far, trying next O\n",
      "distance too far, trying next O\n",
      "distance too far, trying next O\n",
      "distance too far, trying next O\n",
      "distance too far, trying next O\n",
      "distance too far, trying next O\n",
      "distance too far, trying next O\n",
      "distance too far, trying next O\n",
      "distance too far, trying next O\n",
      "distance too far, trying next O\n",
      "distance too far, trying next O\n",
      "distance too far, trying next O\n",
      "distance too far, trying next O\n",
      "distance too far, trying next O\n",
      "distance too far, trying next O\n",
      "distance too far, trying next O\n",
      "distance too far, trying next O\n",
      "distance too far, trying next O\n",
      "distance too far, trying next O\n",
      "distance too far, trying next O\n",
      "distance too far, trying next O\n",
      "distance too far, trying next O\n",
      "distance too far, trying next O\n",
      "distance too far, trying next O\n",
      "distance too far, trying next O\n",
      "distance too far, trying next O\n",
      "distance too far, trying next O\n",
      "distance too far, trying next O\n",
      "distance too far, trying next O\n",
      "distance too far, trying next O\n",
      "distance too far, trying next O\n",
      "distance too far, trying next O\n",
      "distance too far, trying next O\n",
      "distance too far, trying next O\n",
      "distance too far, trying next O\n",
      "distance too far, trying next O\n",
      "distance too far, trying next O\n",
      "distance too far, trying next O\n",
      "distance too far, trying next O\n",
      "distance too far, trying next O\n",
      "distance too far, trying next O\n",
      "distance too far, trying next O\n",
      "distance too far, trying next O\n",
      "distance too far, trying next O\n",
      "distance too far, trying next O\n",
      "distance too far, trying next O\n",
      "distance too far, trying next O\n",
      "distance too far, trying next O\n",
      "distance too far, trying next O\n",
      "distance too far, trying next O\n",
      "distance too far, trying next O\n",
      "distance too far, trying next O\n",
      "distance too far, trying next O\n",
      "distance too far, trying next O\n",
      "distance too far, trying next O\n",
      "distance too far, trying next O\n",
      "distance too far, trying next O\n",
      "distance too far, trying next O\n",
      "distance too far, trying next O\n",
      "distance too far, trying next O\n",
      "distance too far, trying next O\n",
      "distance too far, trying next O\n",
      "distance too far, trying next O\n",
      "distance too far, trying next O\n",
      "distance too far, trying next O\n",
      "distance too far, trying next O\n",
      "distance too far, trying next O\n",
      "distance too far, trying next O\n",
      "displace\n",
      "trajectory saved as water_1.data\n"
     ]
    }
   ],
   "source": [
    "# generate ion trajectories for ion MD runs\n",
    "traj_2.get_displace(snapshot=50, distance=0.4, eps=0.05, path=\"../tutorial_notebook/\", num_traj=2)"
   ]
  },
  {
   "cell_type": "code",
   "execution_count": null,
   "id": "1ac93763",
   "metadata": {},
   "outputs": [],
   "source": []
  },
  {
   "cell_type": "code",
   "execution_count": null,
   "id": "15714f48",
   "metadata": {},
   "outputs": [],
   "source": []
  },
  {
   "cell_type": "code",
   "execution_count": null,
   "id": "4b4e9361",
   "metadata": {},
   "outputs": [],
   "source": []
  },
  {
   "cell_type": "code",
   "execution_count": null,
   "id": "622959c2",
   "metadata": {},
   "outputs": [],
   "source": []
  },
  {
   "cell_type": "code",
   "execution_count": null,
   "id": "e3fb5133",
   "metadata": {},
   "outputs": [],
   "source": []
  }
 ],
 "metadata": {
  "kernelspec": {
   "display_name": "Python 3 (ipykernel)",
   "language": "python",
   "name": "python3"
  },
  "language_info": {
   "codemirror_mode": {
    "name": "ipython",
    "version": 3
   },
   "file_extension": ".py",
   "mimetype": "text/x-python",
   "name": "python",
   "nbconvert_exporter": "python",
   "pygments_lexer": "ipython3",
   "version": "3.7.13"
  }
 },
 "nbformat": 4,
 "nbformat_minor": 5
}
