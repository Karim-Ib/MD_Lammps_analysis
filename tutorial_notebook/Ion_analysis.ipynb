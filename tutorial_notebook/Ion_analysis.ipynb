{
 "cells": [
  {
   "cell_type": "code",
   "execution_count": 1,
   "id": "3018bc6b",
   "metadata": {},
   "outputs": [],
   "source": [
    "import sys \n",
    "import os"
   ]
  },
  {
   "cell_type": "code",
   "execution_count": 2,
   "id": "99b585e0",
   "metadata": {},
   "outputs": [],
   "source": [
    "src_path = os.path.abspath(\"../\")\n",
    "if src_path not in sys.path:\n",
    "    sys.path.append(src_path)"
   ]
  },
  {
   "cell_type": "code",
   "execution_count": 3,
   "id": "17dd9ec5",
   "metadata": {},
   "outputs": [],
   "source": [
    "from src.tools.md_class_functions import *\n",
    "from src.tools.md_class_utility import*\n",
    "from src.tools.md_class_graphs import *\n",
    "from src.water_md_class import *"
   ]
  },
  {
   "cell_type": "markdown",
   "id": "0a6b386c",
   "metadata": {},
   "source": [
    "### Set path to your lammps file and initialise trajectory object"
   ]
  },
  {
   "cell_type": "code",
   "execution_count": 4,
   "id": "8c719b84",
   "metadata": {},
   "outputs": [],
   "source": [
    "# path towards an ion trajectory with recombination happening\n",
    "water_path = \"../testing/recombination_tester.lammpstrj\""
   ]
  },
  {
   "cell_type": "code",
   "execution_count": 5,
   "id": "c31a0059",
   "metadata": {},
   "outputs": [],
   "source": [
    " #initialise trajectory object by passing path, format and scaling = 0 means not scaled -> will be scaled in __init__\n",
    "trj = Trajectory(water_path, format=\"lammpstrj\", scaled=0, verbosity=\"silent\")"
   ]
  },
  {
   "cell_type": "markdown",
   "id": "9a6d67e0",
   "metadata": {},
   "source": [
    "### Access class atributes of the Trajectory object "
   ]
  },
  {
   "cell_type": "code",
   "execution_count": null,
   "id": "06b3c8f6",
   "metadata": {},
   "outputs": [],
   "source": [
    "    # access class atributes which are calculated on initialisation, basic information about the trajectory \n",
    "    print(\"Trajectory first 3 rows\")\n",
    "    print(trj.trajectory[0, :3, :])\n",
    "    print(\"box dimensions\")\n",
    "    print(trj.box_dim[0])\n",
    "    print(\"box size\")\n",
    "    print(trj.box_size[0])\n",
    "    print(\"number of atoms\")\n",
    "    print(trj.n_atoms)\n",
    "    print(\"number of timesteps\")\n",
    "    print(trj.n_snapshots)\n",
    "    print(\"species split\")\n",
    "    print(\"s1 = Hydrogen\")\n",
    "    print(trj.s1[0][:3, :])\n",
    "    print(\"s2 = Oxygen\")\n",
    "    print(trj.s2[0][:3, :])\n",
    "    print(\"did recombine?\")\n",
    "    print(trj.did_recombine)\n",
    "    print(\"Recombination Time\")\n",
    "    print(trj.recombination_time)"
   ]
  },
  {
   "cell_type": "markdown",
   "id": "9b68b091",
   "metadata": {},
   "source": [
    "### Class Methods\n"
   ]
  },
  {
   "cell_type": "code",
   "execution_count": null,
   "id": "dbdfbe6b",
   "metadata": {},
   "outputs": [],
   "source": [
    "#sets the self.distance attribute\n",
    "trj.get_ion_distance()"
   ]
  },
  {
   "cell_type": "code",
   "execution_count": null,
   "id": "ef6b1d43",
   "metadata": {},
   "outputs": [],
   "source": [
    "plot_ion_distance_euc(trj, (11, 6))"
   ]
  },
  {
   "cell_type": "code",
   "execution_count": null,
   "id": "015c81bb",
   "metadata": {},
   "outputs": [],
   "source": [
    "#for further evaluations i just pick one timestep < recombination_time\n",
    "time_step = 773"
   ]
  },
  {
   "cell_type": "code",
   "execution_count": null,
   "id": "23cfda97",
   "metadata": {},
   "outputs": [],
   "source": [
    "bonding_list, unique_oxygens, ions = trj.get_hydrogen_bonds(timestep=time_step, cutoff=2.9, starting_oh=True)"
   ]
  },
  {
   "cell_type": "code",
   "execution_count": null,
   "id": "d7c3d3f4",
   "metadata": {},
   "outputs": [],
   "source": [
    "plot_hbonds_single(bonding_list, trj.s2[time_step], start=\"OH\", fig_size=(10, 8))"
   ]
  },
  {
   "cell_type": "code",
   "execution_count": null,
   "id": "778c4402",
   "metadata": {},
   "outputs": [],
   "source": [
    "bonds_H3O, oxygens_H3O, ions =  trj.get_hydrogen_bonds(timestep=time_step, cutoff=2.9, starting_oh=False)\n",
    "bonds_OH, oxygens_OH, _ =  trj.get_hydrogen_bonds(timestep=time_step, cutoff=2.9, starting_oh=True)"
   ]
  },
  {
   "cell_type": "code",
   "execution_count": null,
   "id": "1fd340bf",
   "metadata": {},
   "outputs": [],
   "source": [
    "plot_hbond_network(bonds_OH, bonds_H3O, trj.s2[time_step], ions, fig_size=(10, 8))"
   ]
  },
  {
   "cell_type": "code",
   "execution_count": null,
   "id": "2d857506",
   "metadata": {},
   "outputs": [],
   "source": [
    "# HB bonds for the entire trajectory\n",
    "hb_timeseries = get_HB_timeseries(trj)"
   ]
  },
  {
   "cell_type": "code",
   "execution_count": null,
   "id": "f434dd71",
   "metadata": {
    "scrolled": false
   },
   "outputs": [],
   "source": [
    "# use %matplotlib widget or similar to make interactive\n",
    "plot_HB_network(hb_timeseries, trj.s2, plot_oxygen=True)"
   ]
  },
  {
   "cell_type": "code",
   "execution_count": null,
   "id": "5fb7700c",
   "metadata": {},
   "outputs": [],
   "source": [
    "plot_HB_ratio(hb_timeseries, n_atoms=trj.n_atoms)"
   ]
  },
  {
   "cell_type": "code",
   "execution_count": null,
   "id": "08d47eed",
   "metadata": {},
   "outputs": [],
   "source": [
    "wire_lengths, h_bonds = get_all_wires(trj)"
   ]
  },
  {
   "cell_type": "code",
   "execution_count": null,
   "id": "710ba863",
   "metadata": {},
   "outputs": [],
   "source": [
    "%matplotlib widget"
   ]
  },
  {
   "cell_type": "code",
   "execution_count": null,
   "id": "234e375c",
   "metadata": {},
   "outputs": [],
   "source": [
    "plot_HB_wire(h_bonds, trj, plot_hydrogens=True)"
   ]
  },
  {
   "cell_type": "code",
   "execution_count": null,
   "id": "5eceb89c",
   "metadata": {},
   "outputs": [],
   "source": [
    "plot_wire_length(wire_lengths)"
   ]
  },
  {
   "cell_type": "code",
   "execution_count": null,
   "id": "bd6743a1",
   "metadata": {},
   "outputs": [],
   "source": [
    "OO_rdf = trj.get_rdf_rdist(stop=8.0)"
   ]
  },
  {
   "cell_type": "code",
   "execution_count": null,
   "id": "e0ccb656",
   "metadata": {},
   "outputs": [],
   "source": [
    "OO_rdf"
   ]
  },
  {
   "cell_type": "code",
   "execution_count": null,
   "id": "a719ea86",
   "metadata": {},
   "outputs": [],
   "source": [
    "HH_rdf = trj.get_rdf_rdist(gr_type=\"HH\")"
   ]
  },
  {
   "cell_type": "code",
   "execution_count": null,
   "id": "1c92d279",
   "metadata": {},
   "outputs": [],
   "source": [
    "plot_rdf(OO_rdf[0], OO_rdf[1])"
   ]
  },
  {
   "cell_type": "code",
   "execution_count": null,
   "id": "f758a02f",
   "metadata": {},
   "outputs": [],
   "source": [
    "plot_rdf(HH_rdf[0], HH_rdf[1], type=\"HH\")"
   ]
  },
  {
   "cell_type": "code",
   "execution_count": null,
   "id": "b99243f8",
   "metadata": {},
   "outputs": [],
   "source": [
    "MSD = trj.get_MSD()"
   ]
  },
  {
   "cell_type": "code",
   "execution_count": null,
   "id": "bbdbed18",
   "metadata": {},
   "outputs": [],
   "source": [
    "plot_MSD(MSD)"
   ]
  },
  {
   "cell_type": "code",
   "execution_count": null,
   "id": "79d1c00c",
   "metadata": {},
   "outputs": [],
   "source": [
    "diff = trj.get_translational_diffusion(MSD)\n",
    "diff"
   ]
  },
  {
   "cell_type": "markdown",
   "id": "8a9d136c",
   "metadata": {},
   "source": [
    "### Trajectory Manipulation\n",
    "\n",
    "\n"
   ]
  },
  {
   "cell_type": "code",
   "execution_count": null,
   "id": "6db4aca1",
   "metadata": {},
   "outputs": [],
   "source": [
    "#trjwater.lammpstrj is just a water sim trajectory without ions \n",
    "#note: (actually already has ions in it but they dont recombine still same concept)\n",
    "path_water = \"../testing/trjwater.lammpstrj\""
   ]
  },
  {
   "cell_type": "code",
   "execution_count": null,
   "id": "1104d4ca",
   "metadata": {},
   "outputs": [],
   "source": [
    "traj_2 = Trajectory(file=path_water, format=\"lammpstrj\", scaled=1, verbosity=\"loud\")"
   ]
  },
  {
   "cell_type": "code",
   "execution_count": null,
   "id": "dfc10f99",
   "metadata": {},
   "outputs": [],
   "source": [
    "# generate ion trajectories for ion MD runs\n",
    "traj_2.get_displace(snapshot=50, distance=0.4, eps=0.05, path=\"../tutorial_notebook/\", num_traj=2)"
   ]
  },
  {
   "cell_type": "code",
   "execution_count": null,
   "id": "ac94d09b",
   "metadata": {},
   "outputs": [],
   "source": [
    "#cut out trajectory at timestamp 50\n",
    "traj_2.cut_snapshot(snapshot=50, path=\"../tutorial_notebook/\")"
   ]
  },
  {
   "cell_type": "code",
   "execution_count": null,
   "id": "6e62f8c8",
   "metadata": {},
   "outputs": [],
   "source": [
    "# remove 20 atoms from timestap 50\n",
    "traj_2.remove_atoms(N=20, snap=50, format_out=\"lammps\")"
   ]
  },
  {
   "cell_type": "code",
   "execution_count": null,
   "id": "91297f67",
   "metadata": {},
   "outputs": [],
   "source": [
    "# group together the molecules and writes it into a ovito readable lammpstrj file\n",
    "traj_2.group_molecules(path=\"../tutorial_notebook/\")"
   ]
  },
  {
   "cell_type": "code",
   "execution_count": null,
   "id": "afa4bb62",
   "metadata": {},
   "outputs": [],
   "source": []
  },
  {
   "cell_type": "code",
   "execution_count": null,
   "id": "a66ece79",
   "metadata": {},
   "outputs": [],
   "source": [
    "data = np.loadtxt(\"C:\\\\Users\\\\Nutzer\\\\Documents\\\\GitHub\\\\MD_Lammps_analysis_class\\\\tutorial_notebook\\\\OH_ion_RDF_averaged.csv\", delimiter=\",\")\n",
    "plt.plot(data[1], data[0])"
   ]
  },
  {
   "cell_type": "code",
   "execution_count": null,
   "id": "69143b66",
   "metadata": {},
   "outputs": [],
   "source": [
    "data = np.loadtxt(\"C:\\\\Users\\\\Nutzer\\\\Documents\\\\GitHub\\\\MD_Lammps_analysis_class\\\\tutorial_notebook\\\\H3O_ion_RDF_averaged.csv\", delimiter=\",\")\n",
    "plt.plot(data[1], data[0])"
   ]
  },
  {
   "cell_type": "code",
   "execution_count": null,
   "id": "7633c21e",
   "metadata": {},
   "outputs": [],
   "source": [
    "h3o_ids_ts = np.empty((trj.recombination_time, ), dtype=int)\n",
    "oh_ids_ts = np.empty((trj.recombination_time, ), dtype=int)\n",
    "for ts in range(trj.recombination_time):\n",
    "    \n",
    "    OH_id = None\n",
    "    H3O_id = None\n",
    "\n",
    "    # note: find nearest O atom for each H atom\n",
    "    indexlist_group, _ = trj.get_neighbour_KDT(species_1=trj.s1[ts],\n",
    "                                                species_2=trj.s2[ts], mode=\"pbc\", snapshot=ts)\n",
    "\n",
    "    # note: find he  number of  occourence of O atoms for which it is the nearest to an H atom.\n",
    "    # -> for H2O each O atom will count twice, for each H3O+ each O atom will count 3 times and so on.\n",
    "    temp = [None] * trj.s2[ts].shape[0]\n",
    "    for O_atom in range(trj.s2[ts].shape[0]):\n",
    "        temp[O_atom] = np.append(np.argwhere(indexlist_group == O_atom), O_atom)\n",
    "\n",
    "    # check how often each O atom counted -> molecules formation  OH- = 1 time H3O+  3 Times  H2O 2 times.\n",
    "    for ind, _list in enumerate(temp):\n",
    "        if len(_list) == 2:\n",
    "            OH_id = _list[-1]\n",
    "        if len(_list) == 4:\n",
    "            H3O_id = _list[-1]\n",
    "            \n",
    "    h3o_ids_ts[ts] = trj.s2[ts][H3O_id, 0]\n",
    "    oh_ids_ts[ts] = trj.s2[ts][OH_id, 0]\n",
    "\n",
    "\n",
    "jumps = []\n",
    "diffusion = []\n",
    "for position_id in range(1, trj.recombination_time):\n",
    "    if h3o_ids_ts[position_id-1] != h3o_ids_ts[position_id]:\n",
    "        jumps.append(position_id-1)\n",
    "    else:\n",
    "        diffusion.append(position_id-1)\n",
    "        \n",
    "        \n",
    "\n",
    "    \n"
   ]
  },
  {
   "cell_type": "code",
   "execution_count": null,
   "id": "f538b957",
   "metadata": {},
   "outputs": [],
   "source": [
    "h3o_ids_ts"
   ]
  },
  {
   "cell_type": "code",
   "execution_count": null,
   "id": "e9b03c13",
   "metadata": {},
   "outputs": [],
   "source": [
    "jumps"
   ]
  },
  {
   "cell_type": "code",
   "execution_count": null,
   "id": "1bbe6a7c",
   "metadata": {},
   "outputs": [],
   "source": [
    "diffusion"
   ]
  },
  {
   "cell_type": "code",
   "execution_count": null,
   "id": "b3951146",
   "metadata": {},
   "outputs": [],
   "source": [
    "def get_diffusion_distance(jumps: [int], diffusion: [int], ion_ids: [int], trj: Trajectory):\n",
    "    \n",
    "    coordinates = trj.s2\n",
    "    temp = []\n",
    "    diffusion_distances = []\n",
    "\n",
    "    previous = diffusion[0]\n",
    "    intervalls = []\n",
    "    _temp = []\n",
    "\n",
    "\n",
    "    for diff_ts in range(1, len(diffusion)):\n",
    "        #print(previous)\n",
    "        if (diffusion[diff_ts] - 1 == previous): \n",
    "            _temp.append(previous)\n",
    "            previous = diffusion[diff_ts]\n",
    "        else:\n",
    "            _temp.append(previous)\n",
    "            if len(_temp) > 1:\n",
    "                intervalls.append(_temp)\n",
    "            _temp = []\n",
    "            previous = diffusion[diff_ts]\n",
    "    print(intervalls)\n",
    "    for diffusion_int in intervalls:\n",
    "        for diff in range(len(diffusion_int) -1):\n",
    "            temp.append(get_distance(coordinates[diffusion_int[diff]][coordinates[diffusion_int[diff]][:, 0]==ion_ids[diffusion_int[diff]], 2:][0],\n",
    "                                    coordinates[diffusion_int[diff+1]][coordinates[diffusion_int[diff+1]][:, 0]==ion_ids[diffusion_int[diff+1]], 2:][0],\n",
    "                                    mode=\"pbc\"))\n",
    "        diffusion_distances.append(sum(temp))\n",
    "        temp = []\n",
    "    return diffusion_distances\n",
    "        "
   ]
  },
  {
   "cell_type": "code",
   "execution_count": null,
   "id": "a866400c",
   "metadata": {},
   "outputs": [],
   "source": [
    "def get_jump_distances(jumps: [int], ion_ids: [int], trj: Trajectory):\n",
    "    \n",
    "    coordinates = trj.s2\n",
    "    jump_distances = []\n",
    "    \n",
    "    for jump_ts in range(len(jumps)):\n",
    "        jump_distances.append(get_distance(coordinates[jumps[jump_ts]][coordinates[jumps[jump_ts]][:, 0] == ion_ids[jumps[jump_ts]], 2:][0],\n",
    "                                          coordinates[jumps[jump_ts]-1][coordinates[jumps[jump_ts]-1][:, 0] == ion_ids[jumps[jump_ts]-1], 2:][0],\n",
    "                                          mode=\"pbc\"))\n",
    "        \n",
    "    return jump_distances"
   ]
  },
  {
   "cell_type": "code",
   "execution_count": null,
   "id": "7ffd8dcd",
   "metadata": {},
   "outputs": [],
   "source": [
    "diff_dist = get_diffusion_distance(jumps, diffusion, h3o_ids_ts, trj)\n",
    "jump_dist = get_jump_distances(jumps, h3o_ids_ts, trj)"
   ]
  },
  {
   "cell_type": "code",
   "execution_count": null,
   "id": "05830b95",
   "metadata": {
    "scrolled": true
   },
   "outputs": [],
   "source": [
    "jump_dist"
   ]
  },
  {
   "cell_type": "code",
   "execution_count": null,
   "id": "ba568991",
   "metadata": {},
   "outputs": [],
   "source": [
    "diff_dist"
   ]
  },
  {
   "cell_type": "code",
   "execution_count": null,
   "id": "57e921b2",
   "metadata": {},
   "outputs": [],
   "source": [
    "len(diff_dist)"
   ]
  },
  {
   "cell_type": "code",
   "execution_count": null,
   "id": "f7a227a3",
   "metadata": {},
   "outputs": [],
   "source": [
    "for _ in range(5):\n",
    "    print(_)"
   ]
  },
  {
   "cell_type": "code",
   "execution_count": null,
   "id": "638b902b",
   "metadata": {},
   "outputs": [],
   "source": [
    "def expand_system(coords, box_size):\n",
    "    \"\"\"\n",
    "    Expands a system of molecular coordinates by duplicating it 8 times in space.\n",
    "\n",
    "    Parameters:\n",
    "        coords (numpy.ndarray): Array of shape (N, 5) containing [particle_id, particle_type, x, y, z].\n",
    "        box_size (list or tuple): The original box dimensions [x, y, z].\n",
    "\n",
    "    Returns:\n",
    "        numpy.ndarray: Expanded coordinate array.\n",
    "    \"\"\"\n",
    "    translations = [\n",
    "        (dx * box_size[0], dy * box_size[1], dz * box_size[2])\n",
    "        for dx in range(2) for dy in range(2) for dz in range(2)\n",
    "    ]\n",
    "    \n",
    "    expanded_coords = []\n",
    "    new_particle_id = 0  # Reset particle ID count for new system\n",
    "\n",
    "    for dx, dy, dz in translations:\n",
    "        for row in coords:\n",
    "            particle_id, particle_type, x, y, z = row\n",
    "            new_coords = [new_particle_id, particle_type, x + dx, y + dy, z + dz]\n",
    "            expanded_coords.append(new_coords)\n",
    "            new_particle_id += 1  # Ensure unique IDs\n",
    "\n",
    "    return np.array(expanded_coords)"
   ]
  },
  {
   "cell_type": "code",
   "execution_count": null,
   "id": "09af425c",
   "metadata": {},
   "outputs": [],
   "source": [
    "new_box = expand_system(trj.trajectory[0], trj.box_size[0])"
   ]
  },
  {
   "cell_type": "code",
   "execution_count": null,
   "id": "a6adc1f2",
   "metadata": {},
   "outputs": [],
   "source": [
    "new_box.shape"
   ]
  },
  {
   "cell_type": "code",
   "execution_count": null,
   "id": "461687aa",
   "metadata": {},
   "outputs": [],
   "source": [
    "indexlist_group, _ = trj.get_neighbour_KDT(mode=\"pbc\", snapshot=0)\n",
    "remove_rows = []\n",
    "for O_atom in range(trj.s2[0].shape[0]):\n",
    "    temp = np.append(np.argwhere(indexlist_group == O_atom), O_atom)\n",
    "    if len(temp) == 2 or len(temp) == 4:\n",
    "        remove_rows.append(np.argwhere(trj.trajectory[0][:, 0] == trj.s2[0][O_atom, 0])[0][0])  # add lines with oxygens\n",
    "        for h_atom in temp[:-1]:\n",
    "            remove_rows.append(np.argwhere(trj.trajectory[0][:, 0] == trj.s1[0][h_atom, 0])[0][0])\n",
    "        \n",
    "trj.trajectory[0][remove_rows, 0]"
   ]
  },
  {
   "cell_type": "code",
   "execution_count": 6,
   "id": "8888dbde",
   "metadata": {},
   "outputs": [],
   "source": [
    "trj.expand_system()"
   ]
  },
  {
   "cell_type": "code",
   "execution_count": 8,
   "id": "b206e1fd",
   "metadata": {},
   "outputs": [
    {
     "data": {
      "text/plain": [
       "(3024, 5)"
      ]
     },
     "execution_count": 8,
     "metadata": {},
     "output_type": "execute_result"
    }
   ],
   "source": [
    "trj.expanded_system.shape"
   ]
  }
 ],
 "metadata": {
  "kernelspec": {
   "display_name": "Python 3 (ipykernel)",
   "language": "python",
   "name": "python3"
  },
  "language_info": {
   "codemirror_mode": {
    "name": "ipython",
    "version": 3
   },
   "file_extension": ".py",
   "mimetype": "text/x-python",
   "name": "python",
   "nbconvert_exporter": "python",
   "pygments_lexer": "ipython3",
   "version": "3.7.13"
  }
 },
 "nbformat": 4,
 "nbformat_minor": 5
}
